{
 "cells": [
  {
   "cell_type": "markdown",
   "metadata": {},
   "source": [
    "to do list\n",
    "1. transition to factor model \n",
    "2. make the use of full simulation of the encoder model \n",
    "     1. demonstrate the terrible effect of not having a feature model\n",
    "     2. try the default regular interval update sort of thing\n",
    "3. add non-linear feature mixing\n",
    "\n",
    "Questions\n",
    "1. what would be a realistic sim scenerio in terms of number of trials to go?"
   ]
  },
  {
   "cell_type": "code",
   "execution_count": 4,
   "metadata": {},
   "outputs": [],
   "source": [
    "#test imports from the riglib feature library alright\n",
    "#trying to hijack the encoder class. \n",
    "#where is it? \n",
    "#using relative import, okay? \n",
    "import numpy as np\n",
    "import sys\n",
    "sys.path.append('..//riglib')\n",
    "\n",
    "import riglib.bmi.sim_neurons as sim_neurons\n",
    "from riglib.bmi.state_space_models import StateSpaceEndptVel2D"
   ]
  },
  {
   "cell_type": "markdown",
   "metadata": {},
   "source": [
    "# initial set up of the state space model"
   ]
  },
  {
   "cell_type": "code",
   "execution_count": 7,
   "metadata": {},
   "outputs": [],
   "source": [
    "#set up a state space model sort of thing\n",
    "ssm = StateSpaceEndptVel2D()\n",
    "\n",
    "# specify a control matrix\n",
    "N_NEURONS = 20\n",
    "N_STATES = 7  # 3 positions and 3 velocities and an offset\n",
    "\n",
    "\n",
    "# build the observation matrix\n",
    "sim_C = np.zeros((N_NEURONS, N_STATES))\n",
    "# control x positive directions\n",
    "sim_C[2, :] = np.array([0, 0, 0, 1, 0, 0, 0])\n",
    "sim_C[3, :] = np.array([0, 0, 0, -1, 0, 0, 0])\n",
    "# control z positive directions\n",
    "sim_C[5, :] = np.array([0, 0, 0, 0, 0, 1, 0])\n",
    "sim_C[6, :] = np.array([0, 0, 0, 0, 0, -1, 0])\n",
    "\n"
   ]
  },
  {
   "cell_type": "code",
   "execution_count": 8,
   "metadata": {},
   "outputs": [
    {
     "name": "stdout",
     "output_type": "stream",
     "text": [
      "[[1.  0.  0.  0.1 0.  0.  0. ]\n",
      " [0.  1.  0.  0.  0.1 0.  0. ]\n",
      " [0.  0.  1.  0.  0.  0.1 0. ]\n",
      " [0.  0.  0.  0.8 0.  0.  0. ]\n",
      " [0.  0.  0.  0.  0.8 0.  0. ]\n",
      " [0.  0.  0.  0.  0.  0.8 0. ]\n",
      " [0.  0.  0.  0.  0.  0.  1. ]]\n",
      "[[  0.   0.   0.]\n",
      " [  0.   0.   0.]\n",
      " [  0.   0.   0.]\n",
      " [100.   0.   0.]\n",
      " [  0. 100.   0.]\n",
      " [  0.   0. 100.]\n",
      " [  0.   0.   0.]]\n"
     ]
    }
   ],
   "source": [
    "A, B, W = ssm.get_ssm_matrices()\n",
    "print(A)\n",
    "print(B)"
   ]
  },
  {
   "cell_type": "markdown",
   "metadata": {},
   "source": [
    "the top matrix is our state transition matrix. and the velocities are by default decaying by a factor of 0.8 and 10% of velocity is  converted to the state for whatever reason. \n",
    "\n",
    "the bottom is the control input to drive the state. \n",
    "then we can start to set up the encoder sort of thing."
   ]
  },
  {
   "cell_type": "markdown",
   "metadata": {},
   "source": [
    "# initialize the encoder sort of thing"
   ]
  },
  {
   "cell_type": "markdown",
   "metadata": {},
   "source": [
    "## use a cosine tuned model (no untuned neurons)"
   ]
  },
  {
   "cell_type": "markdown",
   "metadata": {},
   "source": [
    "this class has this sort of initialization parameters\n",
    "\n",
    "class GenericCosEnc(object):\n",
    "    '''\n",
    "    Simulate neurons where the firing rate is a linear function of covariates and the rate parameter goes through a Poisson\n",
    "    '''\n",
    "    def __init__(self, C, ssm, return_ts=False, DT=0.1, call_ds_rate=6):\n",
    "        '''\n",
    "        Constructor for GenericCosEnc\n",
    "\n",
    "        Parameters\n",
    "        ----------\n",
    "        C : np.ndarray of shape (N, K)\n",
    "            N is the number of simulated neurons, K is the number of covariates driving neuronal activity. \n",
    "            The product of C and the hidden state vector x should give the intended spike rates in Hz\n",
    "        ssm : state_space_models.StateSpace instance\n",
    "            ARG_DESCR\n",
    "        call_ds_rate : int, optional, default=6\n",
    "            Calculating DT / call_ds_rate gives the interval between ticks of the main event loop\n"
   ]
  },
  {
   "cell_type": "code",
   "execution_count": 33,
   "metadata": {},
   "outputs": [
    {
     "name": "stdout",
     "output_type": "stream",
     "text": [
      "rates are\n",
      "[ 0.  0. 10.  0.  0. 10.  0.  0.  0.  0.  0.  0.  0.  0.  0.  0.  0.  0.\n",
      "  0.  0.]\n",
      "counts are\n",
      "[0 0 1 0 0 1 0 0 0 0 0 0 0 0 0 0 0 0 0 0]\n"
     ]
    }
   ],
   "source": [
    "\n",
    "intended_state = np.asarray([0, 0, 0, 10, 0, 10, 1]).T #transpose into a col vector\n",
    "#need to seed the pseudo-random generator\n",
    "np.random.seed(seed= 6)\n",
    "\n",
    "#the rates are simply poisson distributed counts\n",
    "rates = np.dot(sim_C, intended_state)\n",
    "from numpy.random import poisson\n",
    "rates[rates < 0] = 0 # Floor firing rates at 0 Hz\n",
    "counts = poisson(rates * 0.1) # DT = 0.1 the time interval\n",
    "print('rates are')\n",
    "print(rates)\n",
    "print('counts are')\n",
    "print(counts)"
   ]
  },
  {
   "cell_type": "code",
   "execution_count": 34,
   "metadata": {
    "scrolled": true
   },
   "outputs": [
    {
     "name": "stdout",
     "output_type": "stream",
     "text": [
      "[0 0 1 0 0 1 0 0 0 0 0 0 0 0 0 0 0 0 0 0]\n"
     ]
    }
   ],
   "source": [
    "np.random.seed(seed= 6)\n",
    "cos_tuned_encoder = sim_neurons.GenericCosEnc(sim_C, ssm,\n",
    "                                             call_ds_rate=1) #for sim, we want this to return us every call, \n",
    "\n",
    "#get the encoded firing rates by\n",
    "#calling the encoder, very convenient\n",
    "print(cos_tuned_encoder(intended_state))"
   ]
  },
  {
   "cell_type": "markdown",
   "metadata": {},
   "source": [
    "what this means is that during this short time interval (dT = 0.1), neuron 2 and neuron 5 fired 1 once, corresponding to our set obervation matrix setup\n",
    "\n",
    "therefore, it looks like this obervation matrix will be our main point of contention, right? this seems to be Andrew Schwartz's model but we are not done yet. "
   ]
  },
  {
   "cell_type": "markdown",
   "metadata": {},
   "source": [
    "## use the factor model with both tuned and untuned neurons "
   ]
  },
  {
   "cell_type": "code",
   "execution_count": 35,
   "metadata": {},
   "outputs": [],
   "source": [
    "fa_cos_tuned_encoder = sim_neurons.FACosEnc(sim_C, ssm,\n",
    "                                             call_ds_rate=1) #for sim, we want this to return us every call, "
   ]
  },
  {
   "cell_type": "code",
   "execution_count": 40,
   "metadata": {},
   "outputs": [
    {
     "name": "stdout",
     "output_type": "stream",
     "text": [
      "None\n",
      "[3, 3]\n"
     ]
    }
   ],
   "source": [
    "#explore a bit what parameters have been initialized\n",
    "print(fa_cos_tuned_encoder.wt_sources) # if it's none, then equally weight the sources \n",
    "# w = np.array([1,1,1,1]) / 4\n",
    "#  counts = np.squeeze(np.array(w[0]*self.priv_unt \n",
    "#                             + w[1]*self.priv_tun \n",
    "#                             + w[2]*self.shar_unt \n",
    "#                             + w[3]*self.shar_tun))\n",
    "\n",
    "print(fa_cos_tuned_encoder.n_facts)\n",
    "# Establish number factors for tuned / untuned input sources: \n",
    "#self.n_tun_factors = self.n_facts[0] #1\n",
    "#self.n_unt_factors = self.n_facts[1]\n"
   ]
  },
  {
   "cell_type": "code",
   "execution_count": null,
   "metadata": {},
   "outputs": [],
   "source": []
  }
 ],
 "metadata": {
  "kernelspec": {
   "display_name": "Python 3",
   "language": "python",
   "name": "python3"
  },
  "language_info": {
   "codemirror_mode": {
    "name": "ipython",
    "version": 3
   },
   "file_extension": ".py",
   "mimetype": "text/x-python",
   "name": "python",
   "nbconvert_exporter": "python",
   "pygments_lexer": "ipython3",
   "version": "3.7.6"
  }
 },
 "nbformat": 4,
 "nbformat_minor": 4
}
