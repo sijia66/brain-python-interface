{
 "cells": [
  {
   "cell_type": "code",
   "execution_count": 5,
   "metadata": {
    "ExecuteTime": {
     "end_time": "2020-11-30T19:19:03.908826Z",
     "start_time": "2020-11-30T19:19:03.471781Z"
    }
   },
   "outputs": [],
   "source": [
    "import io\n",
    "import numpy as np\n",
    "from pymrmr import mRMR\n",
    "import pandas as pd\n",
    "import requests as rq\n",
    "\n",
    "#for decoder training\n",
    "from riglib.bmi import accumulator, assist, bmi, clda, extractor, feedback_controllers, goal_calculators, robot_arms, sim_neurons, kfdecoder, ppfdecoder, state_space_models, train\n",
    "from riglib.bmi.sim_neurons import KalmanEncoder"
   ]
  },
  {
   "cell_type": "markdown",
   "metadata": {},
   "source": [
    "# load features\n",
    "\n",
    "the following code has been copied and pasted from gen_test_data of decoder_training.ipynb\n",
    "the idea is to generate cosine tuned spikes from states. \n",
    "\n",
    "and use mrmr select useful states.\n"
   ]
  },
  {
   "cell_type": "markdown",
   "metadata": {},
   "source": [
    "## generate states"
   ]
  },
  {
   "cell_type": "code",
   "execution_count": 1,
   "metadata": {
    "ExecuteTime": {
     "end_time": "2020-11-30T19:18:48.174266Z",
     "start_time": "2020-11-30T19:18:48.072073Z"
    }
   },
   "outputs": [
    {
     "data": {
      "text/plain": [
       "(2000, 7)"
      ]
     },
     "execution_count": 1,
     "metadata": {},
     "output_type": "execute_result"
    }
   ],
   "source": [
    "from riglib.bmi.state_space_models import StateSpaceEndptVel2D\n",
    "ssm = StateSpaceEndptVel2D()\n",
    "\n",
    "\n",
    "n_samples = 2000\n",
    "\n",
    "#W = np.identity(N_STATES)\n",
    "#W = np.zeros((N_STATES,N_STATES))\n",
    "A, _, W = ssm.get_ssm_matrices()\n",
    "\n",
    "mean = np.zeros(A.shape[0])\n",
    "mean[-1] = 1\n",
    "state_samples = np.random.multivariate_normal(mean, W, n_samples)\n",
    "\n",
    "state_samples\n",
    "state_samples.shape"
   ]
  },
  {
   "cell_type": "markdown",
   "metadata": {},
   "source": [
    "## set up encoder"
   ]
  },
  {
   "cell_type": "code",
   "execution_count": 2,
   "metadata": {
    "ExecuteTime": {
     "end_time": "2020-11-30T19:18:50.769415Z",
     "start_time": "2020-11-30T19:18:50.766163Z"
    }
   },
   "outputs": [],
   "source": [
    "N_NEURONS = 3000\n",
    "N_STATES = 7  # 3 positions and 3 velocities and an offset\n",
    "\n",
    "\n",
    "\n",
    "\n",
    "# build the observation matrix\n",
    "sim_C = np.zeros((N_NEURONS, N_STATES))\n",
    "# control x positive directions\n",
    "sim_C[0, :] = np.array([0, 0, 0, 1, 0, 0, 0])\n",
    "sim_C[1, :] = np.array([0, 0, 0, -1, 0, 0, 0])\n",
    "\n",
    "\n",
    "# control z positive directions\n",
    "sim_C[2, :] = np.array([0, 0, 0, 0, 0, 1, 0])\n",
    "sim_C[3, :] = np.array([0, 0, 0, 0, 0, -1, 0])\n",
    "\n"
   ]
  },
  {
   "cell_type": "markdown",
   "metadata": {},
   "source": [
    "## train the decoder from the simulated data  "
   ]
  },
  {
   "cell_type": "code",
   "execution_count": 3,
   "metadata": {
    "ExecuteTime": {
     "end_time": "2020-11-30T19:18:53.255440Z",
     "start_time": "2020-11-30T19:18:53.198408Z"
    }
   },
   "outputs": [
    {
     "name": "stdout",
     "output_type": "stream",
     "text": [
      "SimCosineTunedEnc SSM: State space: ['hand_px', 'hand_py', 'hand_pz', 'hand_vx', 'hand_vy', 'hand_vz', 'offset']\n"
     ]
    },
    {
     "data": {
      "text/plain": [
       "(3000, 7)"
      ]
     },
     "execution_count": 3,
     "metadata": {},
     "output_type": "execute_result"
    }
   ],
   "source": [
    "from riglib.bmi.sim_neurons import GenericCosEnc#CLDASimCosEnc\n",
    "\n",
    "print('SimCosineTunedEnc SSM:', ssm)\n",
    "encoder = GenericCosEnc(sim_C, \n",
    "                         ssm, \n",
    "                         return_ts=True, \n",
    "                         DT=0.1, \n",
    "                         call_ds_rate=6)\n",
    "encoder.call_ds_rate = 1\n",
    "sim_C.shape"
   ]
  },
  {
   "cell_type": "markdown",
   "metadata": {},
   "source": [
    "## gen simulated spikes"
   ]
  },
  {
   "cell_type": "code",
   "execution_count": 6,
   "metadata": {
    "ExecuteTime": {
     "end_time": "2020-11-30T19:19:25.087514Z",
     "start_time": "2020-11-30T19:19:11.651581Z"
    }
   },
   "outputs": [
    {
     "name": "stdout",
     "output_type": "stream",
     "text": [
      "{}\n",
      "end of kwargs\n",
      "('zscore value: ', False, <class 'bool'>)\n",
      "no init_zscore\n"
     ]
    },
    {
     "data": {
      "text/plain": [
       "matrix([[ 0.        ,  0.        ,  0.        , ...,  0.        ,\n",
       "         -0.00249975,  0.10942584],\n",
       "        [ 0.        ,  0.        ,  0.        , ...,  0.        ,\n",
       "         -0.00107835,  0.08568598],\n",
       "        [ 0.        ,  0.        ,  0.        , ...,  0.        ,\n",
       "          0.04673258,  0.09708481],\n",
       "        ...,\n",
       "        [ 0.        ,  0.        ,  0.        , ...,  0.        ,\n",
       "          0.        ,  0.        ],\n",
       "        [ 0.        ,  0.        ,  0.        , ...,  0.        ,\n",
       "          0.        ,  0.        ],\n",
       "        [ 0.        ,  0.        ,  0.        , ...,  0.        ,\n",
       "          0.        ,  0.        ]])"
      ]
     },
     "execution_count": 6,
     "metadata": {},
     "output_type": "execute_result"
    }
   ],
   "source": [
    "n_units = sim_C.shape[0]\n",
    "spike_counts = np.zeros([n_units, n_samples])\n",
    "\n",
    "for k in range(n_samples):\n",
    "    spike_counts[:,k] = np.array(encoder(state_samples[k],\n",
    "                                              mode='counts')).ravel()\n",
    "\n",
    "kin = state_samples.T\n",
    "trained_decoder = train.train_KFDecoder_abstract(ssm, \n",
    "                                              kin, \n",
    "                                              spike_counts, \n",
    "                                              encoder.get_units(), \n",
    "                                              0.1, \n",
    "                                              zscore=False)\n",
    "trained_decoder.filt.C"
   ]
  },
  {
   "cell_type": "markdown",
   "metadata": {},
   "source": [
    "## Cast features into feature selection problem\n",
    "by this I want to transform the variables"
   ]
  },
  {
   "cell_type": "markdown",
   "metadata": {},
   "source": [
    "### states are targets"
   ]
  },
  {
   "cell_type": "code",
   "execution_count": 7,
   "metadata": {
    "ExecuteTime": {
     "end_time": "2020-11-30T19:19:25.123570Z",
     "start_time": "2020-11-30T19:19:25.120993Z"
    }
   },
   "outputs": [
    {
     "name": "stdout",
     "output_type": "stream",
     "text": [
      "(7, 2000)\n",
      "(2000, 7)\n",
      "(2000, 3000)\n"
     ]
    }
   ],
   "source": [
    "print(kin.shape)\n",
    "#want an easy case, just x y, on the screeen\n",
    "kin_x_vel = kin[3,:]\n",
    "\n",
    "kin_x_vel = np.expand_dims(kin_x_vel, axis = 1).T\n",
    "kin_x_vel.shape\n",
    "\n",
    "y = kin.T\n",
    "print(y.shape)\n",
    "\n",
    "X = spike_counts.T\n",
    "print(X.shape)"
   ]
  },
  {
   "cell_type": "markdown",
   "metadata": {},
   "source": [
    "# feature selection using joint covariance matrix"
   ]
  },
  {
   "cell_type": "code",
   "execution_count": 14,
   "metadata": {
    "ExecuteTime": {
     "end_time": "2020-11-30T19:21:15.139657Z",
     "start_time": "2020-11-30T19:21:14.769710Z"
    }
   },
   "outputs": [
    {
     "name": "stdout",
     "output_type": "stream",
     "text": [
      "[0. 0. 0. ... 0. 0. 0.]\n"
     ]
    },
    {
     "data": {
      "image/png": "[encoded data removed]",
      "text/plain": [
       "<Figure size 288x288 with 2 Axes>"
      ]
     },
     "metadata": {
      "needs_background": "light"
     },
     "output_type": "display_data"
    }
   ],
   "source": [
    "feat_target = np.concatenate((X, y), axis = 1)\n",
    "\n",
    "cov = np.cov(feat_target.T)\n",
    "cov.shape\n",
    "\n",
    "import matplotlib.pyplot as plt\n",
    "import seaborn as sns\n",
    "\n",
    "plt.matshow(cov, alpha=0.8, cmap='YlOrBr_r')\n",
    "plt.colorbar()\n",
    "\n",
    "#sns.heatmap(cov)\n",
    "print(cov[7,:])\n"
   ]
  },
  {
   "cell_type": "markdown",
   "metadata": {},
   "source": [
    "we need to normalize the calculation.\n",
    "\n"
   ]
  },
  {
   "cell_type": "code",
   "execution_count": 15,
   "metadata": {
    "ExecuteTime": {
     "end_time": "2020-11-30T19:21:23.323027Z",
     "start_time": "2020-11-30T19:21:23.320597Z"
    }
   },
   "outputs": [
    {
     "name": "stdout",
     "output_type": "stream",
     "text": [
      "[0.13838019 0.09064532 0.11785668 ... 7.02193208 7.12099758 0.        ]\n"
     ]
    }
   ],
   "source": [
    "print(cov.diagonal())"
   ]
  },
  {
   "cell_type": "markdown",
   "metadata": {},
   "source": [
    "## look at the regularized covarience matrix"
   ]
  },
  {
   "cell_type": "code",
   "execution_count": 17,
   "metadata": {
    "ExecuteTime": {
     "end_time": "2020-11-30T19:21:43.549369Z",
     "start_time": "2020-11-30T19:21:41.016598Z"
    }
   },
   "outputs": [
    {
     "data": {
      "image/png": "[encoded data removed]",
      "text/plain": [
       "<Figure size 288x288 with 2 Axes>"
      ]
     },
     "metadata": {
      "needs_background": "light"
     },
     "output_type": "display_data"
    }
   ],
   "source": [
    "\n",
    "var_mat  = cov.diagonal()\n",
    "\n",
    "cov_norm = np.zeros(cov.shape)\n",
    "\n",
    "for i in range(cov.shape[0]):\n",
    "    for j in range(cov.shape[1]):\n",
    "        if var_mat[i] != 0 and (var_mat[j] != 0):\n",
    "            cov_norm[i,j] = cov[i,j] / np.sqrt(var_mat[i])/np.sqrt(var_mat[j])\n",
    "\n",
    "            \n",
    "        \n",
    "\n",
    "plt.matshow(cov_norm)\n",
    "plt.colorbar()\n",
    "            \n",
    "plt.show()\n",
    "\n",
    "#print(cov_norm.diagonal())"
   ]
  },
  {
   "cell_type": "markdown",
   "metadata": {},
   "source": [
    "## just look at the firing-state cov"
   ]
  },
  {
   "cell_type": "code",
   "execution_count": 26,
   "metadata": {
    "ExecuteTime": {
     "end_time": "2020-11-30T19:24:33.872716Z",
     "start_time": "2020-11-30T19:24:33.696773Z"
    }
   },
   "outputs": [
    {
     "data": {
      "image/png": "[encoded data removed]",
      "text/plain": [
       "<Figure size 432x288 with 2 Axes>"
      ]
     },
     "metadata": {
      "needs_background": "light"
     },
     "output_type": "display_data"
    }
   ],
   "source": [
    "N_BINS = 2\n",
    "\n",
    "\n",
    "fire_state_cov = cov_norm[:3000, 3000:]\n",
    "\n",
    "\n",
    "axe_0 = plt.subplot(1,2,1)\n",
    "axe_0.matshow(fire_state_cov)\n",
    "axe_0.set_ylabel('Firing rates (au.)')\n",
    "axe_0.set_xlabel('States')\n",
    "#axe_0.set_colorbar()\n",
    "\n",
    "axe_1 = plt.subplot(1,2,2)\n",
    "axe_1.hist(fire_state_cov.flatten(),bins= N_BINS)  # arguments are passed to np.histogram\n",
    "plt.show()"
   ]
  },
  {
   "cell_type": "markdown",
   "metadata": {},
   "source": [
    "# select promising features.\n",
    "\n"
   ]
  },
  {
   "cell_type": "code",
   "execution_count": 33,
   "metadata": {
    "ExecuteTime": {
     "end_time": "2020-11-30T19:32:00.229280Z",
     "start_time": "2020-11-30T19:32:00.123163Z"
    },
    "scrolled": true
   },
   "outputs": [
    {
     "data": {
      "text/plain": [
       "<matplotlib.collections.PathCollection at 0x7fd7cf60f460>"
      ]
     },
     "execution_count": 33,
     "metadata": {},
     "output_type": "execute_result"
    },
    {
     "data": {
      "image/png": "[encoded data removed]",
      "text/plain": [
       "<Figure size 432x288 with 1 Axes>"
      ]
     },
     "metadata": {
      "needs_background": "light"
     },
     "output_type": "display_data"
    }
   ],
   "source": [
    "max_cov = np.max(np.abs(fire_state_cov), axis=1)\n",
    "\n",
    "plt.scatter(max_cov, range(3000))\n",
    "# fire_state_cov.shape"
   ]
  },
  {
   "cell_type": "code",
   "execution_count": 41,
   "metadata": {
    "ExecuteTime": {
     "end_time": "2020-11-30T19:36:37.220072Z",
     "start_time": "2020-11-30T19:36:37.217539Z"
    }
   },
   "outputs": [
    {
     "data": {
      "text/plain": [
       "array([1002, 1003, 1004, 1005, 1006,  997,    1,    3,    2,    0])"
      ]
     },
     "execution_count": 41,
     "metadata": {},
     "output_type": "execute_result"
    }
   ],
   "source": [
    "N_SELECT = 10\n",
    "\n",
    "np.argsort(max_cov)[-N_SELECT:]\n"
   ]
  }
 ],
 "metadata": {
  "kernelspec": {
   "display_name": "Python 3",
   "language": "python",
   "name": "python3"
  },
  "language_info": {
   "codemirror_mode": {
    "name": "ipython",
    "version": 3
   },
   "file_extension": ".py",
   "mimetype": "text/x-python",
   "name": "python",
   "nbconvert_exporter": "python",
   "pygments_lexer": "ipython3",
   "version": "3.8.5"
  },
  "toc": {
   "base_numbering": 1,
   "nav_menu": {},
   "number_sections": true,
   "sideBar": true,
   "skip_h1_title": false,
   "title_cell": "Table of Contents",
   "title_sidebar": "Contents",
   "toc_cell": false,
   "toc_position": {},
   "toc_section_display": true,
   "toc_window_display": true
  },
  "varInspector": {
   "cols": {
    "lenName": 16,
    "lenType": 16,
    "lenVar": 40
   },
   "kernels_config": {
    "python": {
     "delete_cmd_postfix": "",
     "delete_cmd_prefix": "del ",
     "library": "var_list.py",
     "varRefreshCmd": "print(var_dic_list())"
    },
    "r": {
     "delete_cmd_postfix": ") ",
     "delete_cmd_prefix": "rm(",
     "library": "var_list.r",
     "varRefreshCmd": "cat(var_dic_list()) "
    }
   },
   "oldHeight": 393.853,
   "position": {
    "height": "40px",
    "left": "67.8571px",
    "right": "20px",
    "top": "43.0045px",
    "width": "480px"
   },
   "types_to_exclude": [
    "module",
    "function",
    "builtin_function_or_method",
    "instance",
    "_Feature"
   ],
   "varInspector_section_display": "none",
   "window_display": true
  }
 },
 "nbformat": 4,
 "nbformat_minor": 4
}
