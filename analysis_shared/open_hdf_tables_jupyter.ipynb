{
 "cells": [
  {
   "cell_type": "code",
   "execution_count": null,
   "metadata": {},
   "outputs": [],
   "source": []
  },
  {
   "cell_type": "code",
   "execution_count": 1,
   "metadata": {
    "ExecuteTime": {
     "end_time": "2020-10-13T21:37:32.178932Z",
     "start_time": "2020-10-13T21:37:31.976604Z"
    }
   },
   "outputs": [
    {
     "name": "stdout",
     "output_type": "stream",
     "text": [
      "Imports done! \n"
     ]
    }
   ],
   "source": [
    "import tables\n",
    "import numpy\n",
    "import matplotlib.pyplot as plt\n",
    "print(\"Imports done! \")"
   ]
  },
  {
   "cell_type": "markdown",
   "metadata": {},
   "source": [
    "# get the table"
   ]
  },
  {
   "cell_type": "code",
   "execution_count": 2,
   "metadata": {
    "ExecuteTime": {
     "end_time": "2020-10-13T21:37:42.052955Z",
     "start_time": "2020-10-13T21:37:42.044222Z"
    },
    "scrolled": true
   },
   "outputs": [
    {
     "name": "stdout",
     "output_type": "stream",
     "text": [
      "/tmp/tmpc__4aomf.h5 (File) ''\n",
      "Last modif.: 'Tue Oct 13 11:18:18 2020'\n",
      "Object Tree: \n",
      "/ (RootGroup) ''\n",
      "/task (Table(2411,), shuffle, zlib(5)) ''\n",
      "/task_msgs (Table(55,), shuffle, zlib(5)) ''\n",
      "\n"
     ]
    }
   ],
   "source": [
    "#replace this with your hdf filename\n",
    "fname = '/tmp/tmpc__4aomf.h5'\n",
    "hdffile = tables.open_file(fname, 'r')\n",
    "print(hdffile)"
   ]
  },
  {
   "cell_type": "code",
   "execution_count": 20,
   "metadata": {
    "ExecuteTime": {
     "end_time": "2020-10-13T21:55:37.209710Z",
     "start_time": "2020-10-13T21:55:37.207102Z"
    },
    "scrolled": true
   },
   "outputs": [
    {
     "name": "stdout",
     "output_type": "stream",
     "text": [
      "Description([('cursor', '(3,)f8'), ('loop_time', '(1,)f8'), ('decoder_state', '(7, 1)f8'), ('internal_decoder_state', '(7, 1)f8'), ('target_state', '(7, 1)f8'), ('update_bmi', '(1,)f8'), ('spike_counts', '(4, 1)f8'), ('bin_edges', '(2,)f8'), ('ctrl_input', '(7,)f8'), ('assist_level', '(1,)f8'), ('target', '(3,)f8'), ('target_index', '(1,)i4')])\n",
      "\n",
      "/task_msgs (Table(55,), shuffle, zlib(5)) ''\n"
     ]
    }
   ],
   "source": [
    "task_msgs_tables = hdffile.root.task_msgs\n",
    "task_tables = hdffile.root.task\n",
    "print(task_tables.description)\n",
    "\n",
    "print()\n",
    "print(task_msgs_tables)"
   ]
  },
  {
   "cell_type": "markdown",
   "metadata": {},
   "source": [
    "# task msgs data"
   ]
  },
  {
   "cell_type": "markdown",
   "metadata": {},
   "source": [
    "## look what in the data, eh"
   ]
  },
  {
   "cell_type": "code",
   "execution_count": 8,
   "metadata": {
    "ExecuteTime": {
     "end_time": "2020-10-13T21:45:37.055555Z",
     "start_time": "2020-10-13T21:45:37.053465Z"
    },
    "scrolled": true
   },
   "outputs": [
    {
     "name": "stdout",
     "output_type": "stream",
     "text": [
      "<bound method Table.col of /task_msgs (Table(55,), shuffle, zlib(5)) ''\n",
      "  description := {\n",
      "  \"msg\": StringCol(itemsize=256, shape=(), dflt=b'', pos=0),\n",
      "  \"time\": UInt32Col(shape=(), dflt=0, pos=1)}\n",
      "  byteorder := 'little'\n",
      "  chunkshape := (252,)>\n"
     ]
    }
   ],
   "source": [
    "print(task_msgs_tables.col)\n"
   ]
  },
  {
   "cell_type": "code",
   "execution_count": 17,
   "metadata": {
    "ExecuteTime": {
     "end_time": "2020-10-13T21:51:53.198828Z",
     "start_time": "2020-10-13T21:51:53.195689Z"
    }
   },
   "outputs": [
    {
     "data": {
      "text/plain": [
       "(b'None', 2411)"
      ]
     },
     "execution_count": 17,
     "metadata": {},
     "output_type": "execute_result"
    }
   ],
   "source": [
    "# look deeper into what is in here, eh\n",
    "# zip msg and time together\n",
    "msg_time = list(zip(task_msgs_tables.col('msg'), \n",
    "               task_msgs_tables.col('time')))\n",
    "msg_time[-1]\n",
    "# returns a list of msg and time in tuples"
   ]
  },
  {
   "cell_type": "markdown",
   "metadata": {},
   "source": [
    "this tells us what happens at what time, sort of thing"
   ]
  },
  {
   "cell_type": "code",
   "execution_count": null,
   "metadata": {},
   "outputs": [],
   "source": [
    "#b'a string'.decode('ascii')\n",
    "#to convert binary string into regular string."
   ]
  },
  {
   "cell_type": "markdown",
   "metadata": {},
   "source": [
    "## use xarray to proc the data"
   ]
  },
  {
   "cell_type": "markdown",
   "metadata": {},
   "source": [
    "# behavioural"
   ]
  },
  {
   "cell_type": "markdown",
   "metadata": {},
   "source": [
    "## look at some trajectories"
   ]
  },
  {
   "cell_type": "code",
   "execution_count": 19,
   "metadata": {
    "ExecuteTime": {
     "end_time": "2020-10-13T21:52:32.531455Z",
     "start_time": "2020-10-13T21:52:32.432344Z"
    },
    "scrolled": false
   },
   "outputs": [
    {
     "data": {
      "image/png": "[encoded data removed]",
      "text/plain": [
       "<Figure size 432x288 with 1 Axes>"
      ]
     },
     "metadata": {
      "needs_background": "light"
     },
     "output_type": "display_data"
    },
    {
     "data": {
      "text/plain": [
       "(2411, 3)"
      ]
     },
     "execution_count": 19,
     "metadata": {},
     "output_type": "execute_result"
    }
   ],
   "source": [
    "#plot out the cursor trajectories\n",
    "cursor_coor = task_tables.col('cursor')\n",
    "plt.plot(cursor_coor[:,0], cursor_coor[:,2])\n",
    "plt.show()\n",
    "\n",
    "cursor_coor.shape"
   ]
  },
  {
   "cell_type": "markdown",
   "metadata": {},
   "source": [
    "\n",
    "## we can bundle the behaviour and task data together\n",
    "the shape and the traject is exactly the same with the trial trajectory, eh"
   ]
  },
  {
   "cell_type": "markdown",
   "metadata": {},
   "source": [
    "this just shows that I have 6 trials \n",
    "and I cannot tell which trial is which, eh. "
   ]
  },
  {
   "cell_type": "markdown",
   "metadata": {},
   "source": [
    "## eye tracking (optional)"
   ]
  },
  {
   "cell_type": "code",
   "execution_count": 13,
   "metadata": {
    "scrolled": false
   },
   "outputs": [
    {
     "name": "stdout",
     "output_type": "stream",
     "text": [
      "/eyetracker (EArray(25710, 2), shuffle, zlib(5)) ''\n"
     ]
    },
    {
     "data": {
      "text/plain": [
       "[<matplotlib.lines.Line2D at 0xa2f945cc>]"
      ]
     },
     "execution_count": 13,
     "metadata": {},
     "output_type": "execute_result"
    },
    {
     "data": {
      "image/png": "[encoded data removed]",
      "text/plain": [
       "<Figure size 432x288 with 1 Axes>"
      ]
     },
     "metadata": {
      "needs_background": "light"
     },
     "output_type": "display_data"
    }
   ],
   "source": [
    "#plot out the eye tracking results\n",
    "eye_array = hdffile.root.eyetracker\n",
    "print(eye_array)\n",
    "plt.plot(eye_array[:,0], eye_array[:,1])\n"
   ]
  },
  {
   "cell_type": "markdown",
   "metadata": {},
   "source": [
    "## mocap data"
   ]
  },
  {
   "cell_type": "code",
   "execution_count": null,
   "metadata": {},
   "outputs": [],
   "source": [
    "#plot out the mocap data\n",
    "mocap_array = hdffile.root.motiontracker\n",
    "\n"
   ]
  },
  {
   "cell_type": "markdown",
   "metadata": {},
   "source": [
    "#  neural data"
   ]
  },
  {
   "cell_type": "code",
   "execution_count": 23,
   "metadata": {
    "ExecuteTime": {
     "end_time": "2020-10-13T21:56:26.910687Z",
     "start_time": "2020-10-13T21:56:26.908887Z"
    }
   },
   "outputs": [
    {
     "name": "stdout",
     "output_type": "stream",
     "text": [
      "Description([('cursor', '(3,)f8'), ('loop_time', '(1,)f8'), ('decoder_state', '(7, 1)f8'), ('internal_decoder_state', '(7, 1)f8'), ('target_state', '(7, 1)f8'), ('update_bmi', '(1,)f8'), ('spike_counts', '(4, 1)f8'), ('bin_edges', '(2,)f8'), ('ctrl_input', '(7,)f8'), ('assist_level', '(1,)f8'), ('target', '(3,)f8'), ('target_index', '(1,)i4')])\n"
     ]
    }
   ],
   "source": [
    "# see what we are dealing with\n",
    "\n",
    "print(task_tables.description)"
   ]
  },
  {
   "cell_type": "code",
   "execution_count": 28,
   "metadata": {
    "ExecuteTime": {
     "end_time": "2020-10-13T22:02:25.108808Z",
     "start_time": "2020-10-13T22:02:25.102501Z"
    }
   },
   "outputs": [
    {
     "name": "stdout",
     "output_type": "stream",
     "text": [
      "decoder_state.shape: (2411, 7, 1)\n"
     ]
    }
   ],
   "source": [
    "decoder_state = task_tables.col('decoder_state')\n",
    "internal_decoder_state = task_tables.col('internal_decoder_state')\n",
    "target_state = task_tables.col('target_state')\n",
    "spike_counts = task_tables.col('spike_counts')\n",
    "\n",
    "print(f'decoder_state.shape: {decoder_state.shape}')"
   ]
  },
  {
   "cell_type": "markdown",
   "metadata": {},
   "source": [
    "they all have the same time vec? Is there a better way to bundle together the input information?\n",
    "\n",
    "how about letting the monkey chasing a moving target?\n",
    "\n",
    "harder while the monkey trying to learn the decoder, eh?"
   ]
  },
  {
   "cell_type": "code",
   "execution_count": 30,
   "metadata": {
    "ExecuteTime": {
     "end_time": "2020-10-13T22:02:44.590196Z",
     "start_time": "2020-10-13T22:02:44.577952Z"
    }
   },
   "outputs": [
    {
     "name": "stdout",
     "output_type": "stream",
     "text": [
      "internal_decoder_state.shape: (2411, 7, 1)\n"
     ]
    },
    {
     "data": {
      "text/plain": [
       "array([[[ 0.        ],\n",
       "        [ 0.        ],\n",
       "        [ 0.        ],\n",
       "        ...,\n",
       "        [ 0.        ],\n",
       "        [ 0.        ],\n",
       "        [ 1.        ]],\n",
       "\n",
       "       [[ 0.        ],\n",
       "        [ 0.        ],\n",
       "        [ 0.        ],\n",
       "        ...,\n",
       "        [ 0.        ],\n",
       "        [ 0.        ],\n",
       "        [ 1.        ]],\n",
       "\n",
       "       [[ 0.        ],\n",
       "        [ 0.        ],\n",
       "        [ 0.        ],\n",
       "        ...,\n",
       "        [ 0.        ],\n",
       "        [ 0.        ],\n",
       "        [ 1.        ]],\n",
       "\n",
       "       ...,\n",
       "\n",
       "       [[-4.83284916],\n",
       "        [ 0.        ],\n",
       "        [-5.79328023],\n",
       "        ...,\n",
       "        [ 0.        ],\n",
       "        [-1.59118654],\n",
       "        [ 1.        ]],\n",
       "\n",
       "       [[-4.83284916],\n",
       "        [ 0.        ],\n",
       "        [-5.79328023],\n",
       "        ...,\n",
       "        [ 0.        ],\n",
       "        [-1.59118654],\n",
       "        [ 1.        ]],\n",
       "\n",
       "       [[-4.83284916],\n",
       "        [ 0.        ],\n",
       "        [-5.79328023],\n",
       "        ...,\n",
       "        [ 0.        ],\n",
       "        [-1.59118654],\n",
       "        [ 1.        ]]])"
      ]
     },
     "execution_count": 30,
     "metadata": {},
     "output_type": "execute_result"
    }
   ],
   "source": [
    "print(f'internal_decoder_state.shape: {internal_decoder_state.shape}')\n",
    "internal_decoder_state"
   ]
  }
 ],
 "metadata": {
  "kernelspec": {
   "display_name": "Python 3",
   "language": "python",
   "name": "python3"
  },
  "language_info": {
   "codemirror_mode": {
    "name": "ipython",
    "version": 3
   },
   "file_extension": ".py",
   "mimetype": "text/x-python",
   "name": "python",
   "nbconvert_exporter": "python",
   "pygments_lexer": "ipython3",
   "version": "3.8.5"
  },
  "toc": {
   "base_numbering": 1,
   "nav_menu": {},
   "number_sections": true,
   "sideBar": true,
   "skip_h1_title": false,
   "title_cell": "Table of Contents",
   "title_sidebar": "Contents",
   "toc_cell": false,
   "toc_position": {},
   "toc_section_display": true,
   "toc_window_display": true
  },
  "varInspector": {
   "cols": {
    "lenName": 16,
    "lenType": 16,
    "lenVar": 40
   },
   "kernels_config": {
    "python": {
     "delete_cmd_postfix": "",
     "delete_cmd_prefix": "del ",
     "library": "var_list.py",
     "varRefreshCmd": "print(var_dic_list())"
    },
    "r": {
     "delete_cmd_postfix": ") ",
     "delete_cmd_prefix": "rm(",
     "library": "var_list.r",
     "varRefreshCmd": "cat(var_dic_list()) "
    }
   },
   "types_to_exclude": [
    "module",
    "function",
    "builtin_function_or_method",
    "instance",
    "_Feature"
   ],
   "window_display": false
  }
 },
 "nbformat": 4,
 "nbformat_minor": 4
}
