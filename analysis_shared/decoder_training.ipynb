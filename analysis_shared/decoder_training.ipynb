{
 "cells": [
  {
   "cell_type": "markdown",
   "metadata": {},
   "source": [
    "# objective\n",
    "train a no noise Kalman filter, okay\n",
    "we expect to get rid of the noisy offsets\n",
    "\n"
   ]
  },
  {
   "cell_type": "code",
   "execution_count": 1,
   "metadata": {
    "ExecuteTime": {
     "end_time": "2020-11-12T01:19:16.296712Z",
     "start_time": "2020-11-12T01:19:15.724542Z"
    }
   },
   "outputs": [],
   "source": [
    "import numpy as np\n",
    "from riglib.bmi import accumulator, assist, bmi, clda, extractor, feedback_controllers, goal_calculators, robot_arms, sim_neurons, kfdecoder, ppfdecoder, state_space_models, train\n",
    "from riglib.bmi.sim_neurons import KalmanEncoder"
   ]
  },
  {
   "cell_type": "markdown",
   "metadata": {},
   "source": [
    "# start simulation"
   ]
  },
  {
   "cell_type": "markdown",
   "metadata": {},
   "source": [
    "## gen test data\n",
    "this code essentially exerpt from simulation_features.py\n",
    "\n",
    "For the linear stochastic state-space model \n",
    "            x_{t+1} = Ax_{t} + Bu_t + w_t;   w_t ~ N(0, W),\n",
    "        this function specifies the matrices A, B and W\n",
    "\n",
    "        A = [I_N    \\Delta I_N   0\n",
    "             0_N    a*I_N        0\n",
    "             0      0            1]\n",
    "\n",
    "        W = [0_N    0_N   0\n",
    "             0_N    w*I_N        0\n",
    "             0      0            0]\n",
    "\n",
    "        B = [0_N\n",
    "            1000\\Delta I_N\n",
    "            0]"
   ]
  },
  {
   "cell_type": "code",
   "execution_count": 2,
   "metadata": {
    "ExecuteTime": {
     "end_time": "2020-11-12T01:19:19.373819Z",
     "start_time": "2020-11-12T01:19:19.357447Z"
    }
   },
   "outputs": [
    {
     "data": {
      "text/plain": [
       "(2000, 7)"
      ]
     },
     "execution_count": 2,
     "metadata": {},
     "output_type": "execute_result"
    }
   ],
   "source": [
    "# generate state\n",
    "\n",
    "from riglib.bmi.state_space_models import StateSpaceEndptVel2D\n",
    "ssm = StateSpaceEndptVel2D()\n",
    "\n",
    "\n",
    "n_samples = 2000\n",
    "\n",
    "#W = np.identity(N_STATES)\n",
    "#W = np.zeros((N_STATES,N_STATES))\n",
    "A, _, W = ssm.get_ssm_matrices()\n",
    "\n",
    "mean = np.zeros(A.shape[0])\n",
    "mean[-1] = 1\n",
    "state_samples = np.random.multivariate_normal(mean, W, n_samples)\n",
    "\n",
    "state_samples\n",
    "state_samples.shape"
   ]
  },
  {
   "cell_type": "markdown",
   "metadata": {},
   "source": [
    "## set up encoder"
   ]
  },
  {
   "cell_type": "code",
   "execution_count": 3,
   "metadata": {
    "ExecuteTime": {
     "end_time": "2020-11-12T01:19:23.777241Z",
     "start_time": "2020-11-12T01:19:23.774361Z"
    }
   },
   "outputs": [],
   "source": [
    "N_NEURONS = 4\n",
    "N_STATES = 7  # 3 positions and 3 velocities and an offset\n",
    "# build the observation matrix\n",
    "sim_C = np.zeros((N_NEURONS, N_STATES))\n",
    "# control x positive directions\n",
    "sim_C[0, :] = np.array([0, 0, 0, 1, 0, 0, 0])\n",
    "sim_C[1, :] = np.array([0, 0, 0, -1, 0, 0, 0])\n",
    "# control z positive directions\n",
    "sim_C[2, :] = np.array([0, 0, 0, 0, 0, 1, 0])\n",
    "sim_C[3, :] = np.array([0, 0, 0, 0, 0, -1, 0])\n"
   ]
  },
  {
   "cell_type": "code",
   "execution_count": 4,
   "metadata": {
    "ExecuteTime": {
     "end_time": "2020-11-12T01:19:26.722378Z",
     "start_time": "2020-11-12T01:19:26.719059Z"
    }
   },
   "outputs": [
    {
     "name": "stdout",
     "output_type": "stream",
     "text": [
      "SimCosineTunedEnc SSM: State space: ['hand_px', 'hand_py', 'hand_pz', 'hand_vx', 'hand_vy', 'hand_vz', 'offset']\n"
     ]
    },
    {
     "data": {
      "text/plain": [
       "(4, 7)"
      ]
     },
     "execution_count": 4,
     "metadata": {},
     "output_type": "execute_result"
    }
   ],
   "source": [
    "from riglib.bmi.sim_neurons import GenericCosEnc#CLDASimCosEnc\n",
    "\n",
    "print('SimCosineTunedEnc SSM:', ssm)\n",
    "encoder = GenericCosEnc(sim_C, \n",
    "                         ssm, \n",
    "                         return_ts=True, \n",
    "                         DT=0.1, \n",
    "                         call_ds_rate=6)\n",
    "encoder.call_ds_rate = 1\n",
    "sim_C.shape"
   ]
  },
  {
   "cell_type": "markdown",
   "metadata": {},
   "source": [
    "## train the decoder as if we are begining a new BCI"
   ]
  },
  {
   "cell_type": "code",
   "execution_count": 5,
   "metadata": {
    "ExecuteTime": {
     "end_time": "2020-11-12T01:19:29.983054Z",
     "start_time": "2020-11-12T01:19:29.922941Z"
    },
    "scrolled": true
   },
   "outputs": [
    {
     "name": "stdout",
     "output_type": "stream",
     "text": [
      "{}\n",
      "end of kwargs\n",
      "('zscore value: ', False, <class 'bool'>)\n",
      "no init_zscore\n"
     ]
    },
    {
     "data": {
      "text/plain": [
       "matrix([[ 0.        ,  0.        ,  0.        ,  0.05417651,  0.        ,\n",
       "          0.00298701,  0.1182367 ],\n",
       "        [ 0.        ,  0.        ,  0.        , -0.05196106,  0.        ,\n",
       "         -0.00241391,  0.10822761],\n",
       "        [ 0.        ,  0.        ,  0.        , -0.00103358,  0.        ,\n",
       "          0.04789466,  0.10403926],\n",
       "        [ 0.        ,  0.        ,  0.        ,  0.00155093,  0.        ,\n",
       "         -0.04649931,  0.1044399 ]])"
      ]
     },
     "execution_count": 5,
     "metadata": {},
     "output_type": "execute_result"
    }
   ],
   "source": [
    "n_units = sim_C.shape[0]\n",
    "spike_counts = np.zeros([n_units, n_samples])\n",
    "\n",
    "for k in range(n_samples):\n",
    "    spike_counts[:,k] = np.array(encoder(state_samples[k],\n",
    "                                              mode='counts')).ravel()\n",
    "\n",
    "kin = state_samples.T\n",
    "trained_decoder = train.train_KFDecoder_abstract(ssm, \n",
    "                                              kin, \n",
    "                                              spike_counts, \n",
    "                                              encoder.get_units(), \n",
    "                                              0.1, \n",
    "                                              zscore=False)\n",
    "trained_decoder.filt.C"
   ]
  },
  {
   "cell_type": "markdown",
   "metadata": {},
   "source": [
    "it is expected that the \n",
    "the offsets are large.\n"
   ]
  },
  {
   "cell_type": "code",
   "execution_count": 6,
   "metadata": {
    "ExecuteTime": {
     "end_time": "2020-11-12T01:19:33.750838Z",
     "start_time": "2020-11-12T01:19:33.599639Z"
    }
   },
   "outputs": [
    {
     "data": {
      "text/plain": [
       "Text(0.5, 1.0, 'Trained observation matrix')"
      ]
     },
     "execution_count": 6,
     "metadata": {},
     "output_type": "execute_result"
    },
    {
     "data": {
      "image/png": "[encoded data removed]",
      "text/plain": [
       "<Figure size 432x288 with 2 Axes>"
      ]
     },
     "metadata": {
      "needs_background": "light"
     },
     "output_type": "display_data"
    }
   ],
   "source": [
    "import matplotlib.pyplot as plt\n",
    "import numpy as np\n",
    "fig, a = plt.subplots(1,2)\n",
    "\n",
    "sim_C = np.zeros((4, 7))\n",
    "# control x positive directions\n",
    "sim_C[0, :] = np.array([0, 0, 0, 1, 0, 0, 0])\n",
    "sim_C[1, :] = np.array([0, 0, 0, -1, 0, 0, 0])\n",
    "# control z positive directions\n",
    "sim_C[2, :] = np.array([0, 0, 0, 0, 0, 1, 0])\n",
    "sim_C[3, :] = np.array([0, 0, 0, 0, 0, -1, 0])\n",
    "        \n",
    "a[0].imshow(sim_C)\n",
    "a[0].set_title('Specified encoder matrix')\n",
    "\n",
    "a[1].imshow(trained_decoder.filt.C)\n",
    "a[1].set_title('Trained observation matrix')"
   ]
  },
  {
   "cell_type": "markdown",
   "metadata": {},
   "source": [
    "# use linear regression to do feature selection"
   ]
  },
  {
   "cell_type": "markdown",
   "metadata": {},
   "source": [
    "## clearn up the data"
   ]
  },
  {
   "cell_type": "code",
   "execution_count": 38,
   "metadata": {
    "ExecuteTime": {
     "end_time": "2020-11-12T01:37:25.690064Z",
     "start_time": "2020-11-12T01:37:25.686734Z"
    }
   },
   "outputs": [
    {
     "name": "stdout",
     "output_type": "stream",
     "text": [
      "(7, 2000)\n"
     ]
    },
    {
     "data": {
      "text/plain": [
       "(2000, 1)"
      ]
     },
     "execution_count": 38,
     "metadata": {},
     "output_type": "execute_result"
    }
   ],
   "source": [
    "print(kin.shape)\n",
    "#want an easy case, just x y, on the screeen\n",
    "kin_x_vel = kin[3,:]\n",
    "\n",
    "kin_x_vel = np.expand_dims(kin_x_vel, axis = 1).T\n",
    "kin_x_vel.shape\n",
    "\n",
    "y = kin_x_vel.T\n",
    "y.shape"
   ]
  },
  {
   "cell_type": "code",
   "execution_count": 39,
   "metadata": {
    "ExecuteTime": {
     "end_time": "2020-11-12T01:37:28.376692Z",
     "start_time": "2020-11-12T01:37:28.374739Z"
    }
   },
   "outputs": [
    {
     "name": "stdout",
     "output_type": "stream",
     "text": [
      "(2000, 4)\n"
     ]
    }
   ],
   "source": [
    "X = spike_counts.T\n",
    "\n",
    "print(X.shape)"
   ]
  },
  {
   "cell_type": "markdown",
   "metadata": {},
   "source": [
    "## regular ols"
   ]
  },
  {
   "cell_type": "code",
   "execution_count": 42,
   "metadata": {
    "ExecuteTime": {
     "end_time": "2020-11-12T01:39:27.963435Z",
     "start_time": "2020-11-12T01:39:27.959866Z"
    }
   },
   "outputs": [
    {
     "data": {
      "text/plain": [
       "array([[ 2.44795628, -2.45350541, -0.11386859,  0.01981317]])"
      ]
     },
     "execution_count": 42,
     "metadata": {},
     "output_type": "execute_result"
    }
   ],
   "source": [
    "from sklearn.linear_model import LinearRegression\n",
    "from sklearn.metrics import mean_squared_error\n",
    "\n",
    "lr = LinearRegression()\n",
    "lr.fit(X, y)\n",
    "\n",
    "lr.coef_\n",
    "\n",
    "\n",
    "#pred_train_lr= lr.predict(X)\n",
    "#print(np.sqrt(mean_squared_error(y_train,pred_train_lr)))\n",
    "#print(r2_score(y_train, pred_train_lr))"
   ]
  },
  {
   "cell_type": "markdown",
   "metadata": {},
   "source": [
    "this actually makes sense\n",
    "because the first two neurons did encode the first dim\n",
    "\n",
    "control x positive directions\n",
    "sim_C[0, :] = np.array([0, 0, 0, 1, 0, 0, 0])\n",
    "sim_C[1, :] = np.array([0, 0, 0, -1, 0, 0, 0])\n"
   ]
  },
  {
   "cell_type": "markdown",
   "metadata": {},
   "source": [
    "## ridge regression"
   ]
  },
  {
   "cell_type": "code",
   "execution_count": 48,
   "metadata": {
    "ExecuteTime": {
     "end_time": "2020-11-12T01:46:30.630107Z",
     "start_time": "2020-11-12T01:46:30.626251Z"
    }
   },
   "outputs": [
    {
     "data": {
      "text/plain": [
       "array([[ 2.44787933, -2.45342409, -0.11386056,  0.01981366]])"
      ]
     },
     "execution_count": 48,
     "metadata": {},
     "output_type": "execute_result"
    }
   ],
   "source": [
    "from sklearn.linear_model import Ridge\n",
    "\n",
    "rr = Ridge(alpha=0.01)\n",
    "rr.fit(X, y) \n",
    "rr.coef_"
   ]
  },
  {
   "cell_type": "markdown",
   "metadata": {},
   "source": [
    "## lasso regression\n",
    "\n"
   ]
  },
  {
   "cell_type": "code",
   "execution_count": 49,
   "metadata": {
    "ExecuteTime": {
     "end_time": "2020-11-12T01:47:12.172506Z",
     "start_time": "2020-11-12T01:47:12.168328Z"
    }
   },
   "outputs": [
    {
     "data": {
      "text/plain": [
       "array([ 2.3831181 , -2.38689424, -0.0287035 ,  0.        ])"
      ]
     },
     "execution_count": 49,
     "metadata": {},
     "output_type": "execute_result"
    }
   ],
   "source": [
    "from sklearn.linear_model import Lasso\n",
    "\n",
    "model_lasso = Lasso(alpha=0.01)\n",
    "model_lasso.fit(X, y) \n",
    "model_lasso.coef_"
   ]
  },
  {
   "cell_type": "code",
   "execution_count": null,
   "metadata": {},
   "outputs": [],
   "source": []
  }
 ],
 "metadata": {
  "kernelspec": {
   "display_name": "Python 3",
   "language": "python",
   "name": "python3"
  },
  "language_info": {
   "codemirror_mode": {
    "name": "ipython",
    "version": 3
   },
   "file_extension": ".py",
   "mimetype": "text/x-python",
   "name": "python",
   "nbconvert_exporter": "python",
   "pygments_lexer": "ipython3",
   "version": "3.8.5"
  },
  "toc": {
   "base_numbering": 1,
   "nav_menu": {},
   "number_sections": true,
   "sideBar": true,
   "skip_h1_title": false,
   "title_cell": "Table of Contents",
   "title_sidebar": "Contents",
   "toc_cell": false,
   "toc_position": {},
   "toc_section_display": true,
   "toc_window_display": true
  },
  "varInspector": {
   "cols": {
    "lenName": 16,
    "lenType": 16,
    "lenVar": 40
   },
   "kernels_config": {
    "python": {
     "delete_cmd_postfix": "",
     "delete_cmd_prefix": "del ",
     "library": "var_list.py",
     "varRefreshCmd": "print(var_dic_list())"
    },
    "r": {
     "delete_cmd_postfix": ") ",
     "delete_cmd_prefix": "rm(",
     "library": "var_list.r",
     "varRefreshCmd": "cat(var_dic_list()) "
    }
   },
   "types_to_exclude": [
    "module",
    "function",
    "builtin_function_or_method",
    "instance",
    "_Feature"
   ],
   "window_display": false
  }
 },
 "nbformat": 4,
 "nbformat_minor": 4
}