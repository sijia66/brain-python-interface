{
 "cells": [
  {
   "cell_type": "code",
   "execution_count": 1,
   "metadata": {
    "scrolled": true
   },
   "outputs": [
    {
     "name": "stdout",
     "output_type": "stream",
     "text": [
      "Si Jia\n",
      "Si Jia\n",
      "Si Jia\n",
      "Rain smokes\n",
      "Rain smokes\n",
      "Rain smokes\n",
      "Rain smokes\n",
      "Rain smokes\n",
      "Rain smokes\n",
      "Rain smokes\n"
     ]
    }
   ],
   "source": [
    "import threading\n",
    "import time\n",
    "\n",
    "class TestThread(threading.Thread):\n",
    "    \"\"\"\n",
    "    wanna test a thread and modify something. \n",
    "    \"\"\"\n",
    "    def __init__(self):\n",
    "        self.name_tag = 'Si Jia'\n",
    "        self.count = 0;\n",
    "        self.N = 10\n",
    "        super().__init__()\n",
    "        \n",
    "    def run(self):\n",
    "        while self.count < self.N:\n",
    "            print(self.name_tag)\n",
    "            self.count += 1\n",
    "            time.sleep(1) #print tag every 1 self\n",
    "        \n",
    "        \n",
    "        \n",
    "\n",
    "#set up the thing\n",
    "ts = TestThread()\n",
    "ts.start()\n",
    "time.sleep(3)\n",
    "ts.name_tag = 'Rain smokes'\n",
    "ts.join()\n",
    "        "
   ]
  },
  {
   "cell_type": "markdown",
   "metadata": {},
   "source": [
    "this cod prints out the name tag every 1 second. \n",
    "and the thread has started 3 sec.\n",
    "we c ch t name_tag and it wrks srt o th. \n",
    "w d w mk it a bit mr protected srt o th. rt. \n",
    "i.e. w nd a mthd t hnd ths a bit mr carefu"
   ]
  },
  {
   "cell_type": "code",
   "execution_count": null,
   "metadata": {},
   "outputs": [],
   "source": []
  }
 ],
 "metadata": {
  "kernelspec": {
   "display_name": "Python 3",
   "language": "python",
   "name": "python3"
  },
  "language_info": {
   "codemirror_mode": {
    "name": "ipython",
    "version": 3
   },
   "file_extension": ".py",
   "mimetype": "text/x-python",
   "name": "python",
   "nbconvert_exporter": "python",
   "pygments_lexer": "ipython3",
   "version": "3.7.6"
  }
 },
 "nbformat": 4,
 "nbformat_minor": 4
}
