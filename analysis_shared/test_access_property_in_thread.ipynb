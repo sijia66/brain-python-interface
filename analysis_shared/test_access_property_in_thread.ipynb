{
 "cells": [
  {
   "cell_type": "code",
   "execution_count": 1,
   "metadata": {
    "scrolled": true
   },
   "outputs": [
    {
     "name": "stdout",
     "output_type": "stream",
     "text": [
      "Si Jia\n",
      "Si Jia\n",
      "Si Jia\n",
      "Rain smokes\n",
      "Rain smokes\n",
      "Rain smokes\n",
      "Rain smokes\n",
      "Rain smokes\n",
      "Rain smokes\n",
      "Rain smokes\n"
     ]
    }
   ],
   "source": [
    "import threading\n",
    "import time\n",
    "\n",
    "class TestThread(threading.Thread):\n",
    "    \"\"\"\n",
    "    wanna test a thread and modify something. \n",
    "    \"\"\"\n",
    "    def __init__(self):\n",
    "        self.name_tag = 'Si Jia'\n",
    "        self.count = 0;\n",
    "        self.N = 10\n",
    "        super().__init__()\n",
    "        \n",
    "    def run(self):\n",
    "        while self.count < self.N:\n",
    "            print(self.name_tag)\n",
    "            self.count += 1\n",
    "            time.sleep(1) #print tag every 1 self\n",
    "        \n",
    "        \n",
    "        \n",
    "\n",
    "#set up the thing\n",
    "ts = TestThread()\n",
    "ts.start()\n",
    "time.sleep(3)\n",
    "ts.name_tag = 'Rain smokes'\n",
    "ts.join()\n",
    "        "
   ]
  },
  {
   "cell_type": "markdown",
   "metadata": {},
   "source": [
    "this cod prints out the name tag every 1 second. \n",
    "and the thread has started 3 sec.\n",
    "we c ch t name_tag and it wrks srt o th. \n",
    "w d w mk it a bit mr protected srt o th. rt. \n",
    "i.e. w nd a mthd t hnd ths a bit mr carefu"
   ]
  },
  {
   "cell_type": "code",
   "execution_count": null,
   "metadata": {},
   "outputs": [],
   "source": []
  }
 ],
 "metadata": {
  "kernelspec": {
   "display_name": "Python 3",
   "language": "python",
   "name": "python3"
  },
  "language_info": {
   "codemirror_mode": {
    "name": "ipython",
    "version": 3
   },
   "file_extension": ".py",
   "mimetype": "text/x-python",
   "name": "python",
   "nbconvert_exporter": "python",
   "pygments_lexer": "ipython3",
   "version": "3.8.5"
  },
  "toc": {
   "base_numbering": 1,
   "nav_menu": {},
   "number_sections": true,
   "sideBar": true,
   "skip_h1_title": false,
   "title_cell": "Table of Contents",
   "title_sidebar": "Contents",
   "toc_cell": false,
   "toc_position": {},
   "toc_section_display": true,
   "toc_window_display": false
  },
  "varInspector": {
   "cols": {
    "lenName": 16,
    "lenType": 16,
    "lenVar": 40
   },
   "kernels_config": {
    "python": {
     "delete_cmd_postfix": "",
     "delete_cmd_prefix": "del ",
     "library": "var_list.py",
     "varRefreshCmd": "print(var_dic_list())"
    },
    "r": {
     "delete_cmd_postfix": ") ",
     "delete_cmd_prefix": "rm(",
     "library": "var_list.r",
     "varRefreshCmd": "cat(var_dic_list()) "
    }
   },
   "types_to_exclude": [
    "module",
    "function",
    "builtin_function_or_method",
    "instance",
    "_Feature"
   ],
   "window_display": false
  }
 },
 "nbformat": 4,
 "nbformat_minor": 4
}
