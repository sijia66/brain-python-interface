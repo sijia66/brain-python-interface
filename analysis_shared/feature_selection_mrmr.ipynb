{
 "cells": [
  {
   "cell_type": "code",
   "execution_count": 7,
   "metadata": {
    "ExecuteTime": {
     "end_time": "2020-11-06T19:22:21.502860Z",
     "start_time": "2020-11-06T19:22:21.500987Z"
    }
   },
   "outputs": [],
   "source": [
    "import io\n",
    "import numpy as np\n",
    "from pymrmr import mRMR\n",
    "import pandas as pd\n",
    "import requests as rq\n",
    "\n",
    "#for decoder training\n",
    "from riglib.bmi import accumulator, assist, bmi, clda, extractor, feedback_controllers, goal_calculators, robot_arms, sim_neurons, kfdecoder, ppfdecoder, state_space_models, train\n",
    "from riglib.bmi.sim_neurons import KalmanEncoder"
   ]
  },
  {
   "cell_type": "markdown",
   "metadata": {},
   "source": [
    "# use their test case as an example"
   ]
  },
  {
   "cell_type": "code",
   "execution_count": 12,
   "metadata": {
    "ExecuteTime": {
     "end_time": "2020-11-06T19:23:36.772942Z",
     "start_time": "2020-11-06T19:23:23.395548Z"
    }
   },
   "outputs": [
    {
     "output_type": "stream",
     "name": "stdout",
     "text": [
      "confirmed\n"
     ]
    }
   ],
   "source": [
    "\n",
    "\n",
    "data_url = 'http://home.penglab.com/proj/mRMR/test_colon_s3.csv'\n",
    "data = rq.get(data_url).content\n",
    "data = pd.read_csv(io.StringIO(data.decode('utf-8')))\n",
    "\n",
    "feats = {\n",
    "  10: set(['v765', 'v1123', 'v1772', 'v286', 'v467', 'v377', 'v513',\n",
    "    'v1325', 'v1972', 'v1412']),\n",
    "  20: set(['v765', 'v1123', 'v1772', 'v286', 'v467', 'v377', 'v513',\n",
    "    'v1325', 'v1972', 'v1412', 'v1381', 'v897', 'v1671', 'v1582', 'v1423',\n",
    "    'v317', 'v249', 'v1473', 'v1346', 'v125'])}\n",
    "\n",
    "for n in feats.keys():\n",
    "  selected_feats = mRMR(data, 'MIQ', n)\n",
    "  assert feats[n] == set(selected_feats)\n",
    "\n",
    "print('confirmed')"
   ]
  },
  {
   "source": [
    "1. First parameter is a pandas DataFrame (http://pandas.pydata.org/pandas-docs/stable/generated/pandas.DataFrame.html) containing the input dataset, discretised as defined in the original paper (for ref. see http://home.penglab.com/proj/mRMR/). \n",
    "    1. The rows of the dataset are the different samples. The first column is the classification (target) variable for each sample. \n",
    "    2. The remaining columns are the different variables (features) which may be selected by the algorithm. (see \"Sample Data Sets\" at http://home.penglab.com/proj/mRMR/ to download sample dataset to test this algorithm);\n",
    "\n",
    "2. Second parameter is a string which defines the internal Feature Selection method to use (defined in the original paper): possible values are \"MIQ\" or \"MID\";\n",
    "\n",
    "3.  Third parameter is an integer which defines the number of features that should be selected by the algorithm."
   ],
   "cell_type": "markdown",
   "metadata": {}
  },
  {
   "source": [
    "# load features\n",
    "\n",
    "the following code has been copied and pasted from gen_test_data of decoder_training.ipynb\n",
    "the idea is to generate cosine tuned spikes from states. \n",
    "\n",
    "and use mrmr select useful states.\n"
   ],
   "cell_type": "markdown",
   "metadata": {}
  },
  {
   "source": [
    "## generate states"
   ],
   "cell_type": "markdown",
   "metadata": {}
  },
  {
   "cell_type": "code",
   "execution_count": 2,
   "metadata": {},
   "outputs": [
    {
     "output_type": "execute_result",
     "data": {
      "text/plain": [
       "(2000, 7)"
      ]
     },
     "metadata": {},
     "execution_count": 2
    }
   ],
   "source": [
    "from riglib.bmi.state_space_models import StateSpaceEndptVel2D\n",
    "ssm = StateSpaceEndptVel2D()\n",
    "\n",
    "\n",
    "n_samples = 2000\n",
    "\n",
    "#W = np.identity(N_STATES)\n",
    "#W = np.zeros((N_STATES,N_STATES))\n",
    "A, _, W = ssm.get_ssm_matrices()\n",
    "\n",
    "mean = np.zeros(A.shape[0])\n",
    "mean[-1] = 1\n",
    "state_samples = np.random.multivariate_normal(mean, W, n_samples)\n",
    "\n",
    "state_samples\n",
    "state_samples.shape"
   ]
  },
  {
   "source": [
    "## set up encoder"
   ],
   "cell_type": "markdown",
   "metadata": {}
  },
  {
   "cell_type": "code",
   "execution_count": 3,
   "metadata": {},
   "outputs": [],
   "source": [
    "N_NEURONS = 4\n",
    "N_STATES = 7  # 3 positions and 3 velocities and an offset\n",
    "# build the observation matrix\n",
    "sim_C = np.zeros((N_NEURONS, N_STATES))\n",
    "# control x positive directions\n",
    "sim_C[0, :] = np.array([0, 0, 0, 1, 0, 0, 0])\n",
    "sim_C[1, :] = np.array([0, 0, 0, -1, 0, 0, 0])\n",
    "# control z positive directions\n",
    "sim_C[2, :] = np.array([0, 0, 0, 0, 0, 1, 0])\n",
    "sim_C[3, :] = np.array([0, 0, 0, 0, 0, -1, 0])"
   ]
  },
  {
   "source": [
    "## train the decoder from the simulated data  "
   ],
   "cell_type": "markdown",
   "metadata": {}
  },
  {
   "cell_type": "code",
   "execution_count": 4,
   "metadata": {},
   "outputs": [
    {
     "output_type": "stream",
     "name": "stdout",
     "text": [
      "SimCosineTunedEnc SSM: State space: ['hand_px', 'hand_py', 'hand_pz', 'hand_vx', 'hand_vy', 'hand_vz', 'offset']\n"
     ]
    },
    {
     "output_type": "execute_result",
     "data": {
      "text/plain": [
       "(4, 7)"
      ]
     },
     "metadata": {},
     "execution_count": 4
    }
   ],
   "source": [
    "from riglib.bmi.sim_neurons import GenericCosEnc#CLDASimCosEnc\n",
    "\n",
    "print('SimCosineTunedEnc SSM:', ssm)\n",
    "encoder = GenericCosEnc(sim_C, \n",
    "                         ssm, \n",
    "                         return_ts=True, \n",
    "                         DT=0.1, \n",
    "                         call_ds_rate=6)\n",
    "encoder.call_ds_rate = 1\n",
    "sim_C.shape"
   ]
  },
  {
   "source": [
    "## gen simulated spikes"
   ],
   "cell_type": "markdown",
   "metadata": {}
  },
  {
   "cell_type": "code",
   "execution_count": 8,
   "metadata": {},
   "outputs": [
    {
     "output_type": "stream",
     "name": "stdout",
     "text": [
      "{}\nend of kwargs\n('zscore value: ', False, <class 'bool'>)\nno init_zscore\n"
     ]
    },
    {
     "output_type": "execute_result",
     "data": {
      "text/plain": [
       "matrix([[ 0.        ,  0.        ,  0.        ,  0.0528346 ,  0.        ,\n",
       "          0.00285365,  0.11231954],\n",
       "        [ 0.        ,  0.        ,  0.        , -0.04934332,  0.        ,\n",
       "          0.00215825,  0.10246379],\n",
       "        [ 0.        ,  0.        ,  0.        , -0.00209456,  0.        ,\n",
       "          0.05525108,  0.11845983],\n",
       "        [ 0.        ,  0.        ,  0.        , -0.00133817,  0.        ,\n",
       "         -0.04753719,  0.1084568 ]])"
      ]
     },
     "metadata": {},
     "execution_count": 8
    }
   ],
   "source": [
    "n_units = sim_C.shape[0]\n",
    "spike_counts = np.zeros([n_units, n_samples])\n",
    "\n",
    "for k in range(n_samples):\n",
    "    spike_counts[:,k] = np.array(encoder(state_samples[k],\n",
    "                                              mode='counts')).ravel()\n",
    "\n",
    "kin = state_samples.T\n",
    "trained_decoder = train.train_KFDecoder_abstract(ssm, \n",
    "                                              kin, \n",
    "                                              spike_counts, \n",
    "                                              encoder.get_units(), \n",
    "                                              0.1, \n",
    "                                              zscore=False)\n",
    "trained_decoder.filt.C"
   ]
  },
  {
   "source": [
    "# Cast features into feature selection problem\n",
    "by this I want to transform the variables"
   ],
   "cell_type": "markdown",
   "metadata": {}
  },
  {
   "source": [
    "## states are targets"
   ],
   "cell_type": "markdown",
   "metadata": {}
  },
  {
   "cell_type": "code",
   "execution_count": 9,
   "metadata": {},
   "outputs": [
    {
     "output_type": "stream",
     "name": "stdout",
     "text": [
      "(7, 2000)\n"
     ]
    },
    {
     "output_type": "execute_result",
     "data": {
      "text/plain": [
       "(2000, 1)"
      ]
     },
     "metadata": {},
     "execution_count": 9
    }
   ],
   "source": [
    "print(kin.shape)\n",
    "#want an easy case, just x y, on the screeen\n",
    "kin_x_vel = kin[3,:]\n",
    "\n",
    "kin_x_vel = np.expand_dims(kin_x_vel, axis = 1).T\n",
    "kin_x_vel.shape\n",
    "\n",
    "y = kin_x_vel.T\n",
    "y.shape"
   ]
  },
  {
   "source": [
    "#  firing rates are features"
   ],
   "cell_type": "markdown",
   "metadata": {}
  },
  {
   "cell_type": "code",
   "execution_count": 10,
   "metadata": {},
   "outputs": [
    {
     "output_type": "stream",
     "name": "stdout",
     "text": [
      "(2000, 4)\n"
     ]
    }
   ],
   "source": [
    "X = spike_counts.T\n",
    "\n",
    "print(X.shape)"
   ]
  },
  {
   "source": [
    "# feature selection using regularized linear regression\n",
    "\n",
    "to show that featuer selection can be done by\n",
    "dropping features with zero weights  \n",
    "\n",
    "will copy and paste the stuff from decoder_training.ip"
   ],
   "cell_type": "markdown",
   "metadata": {}
  },
  {
   "source": [
    "# feature selection with mrmr"
   ],
   "cell_type": "markdown",
   "metadata": {}
  },
  {
   "cell_type": "code",
   "execution_count": null,
   "metadata": {},
   "outputs": [],
   "source": [
    "mRMR"
   ]
  }
 ],
 "metadata": {
  "kernelspec": {
   "display_name": "Python 3",
   "language": "python",
   "name": "python3"
  },
  "language_info": {
   "codemirror_mode": {
    "name": "ipython",
    "version": 3
   },
   "file_extension": ".py",
   "mimetype": "text/x-python",
   "name": "python",
   "nbconvert_exporter": "python",
   "pygments_lexer": "ipython3",
   "version": "3.8.5-final"
  },
  "toc": {
   "base_numbering": 1,
   "nav_menu": {},
   "number_sections": true,
   "sideBar": true,
   "skip_h1_title": false,
   "title_cell": "Table of Contents",
   "title_sidebar": "Contents",
   "toc_cell": false,
   "toc_position": {},
   "toc_section_display": true,
   "toc_window_display": false
  },
  "varInspector": {
   "cols": {
    "lenName": 16,
    "lenType": 16,
    "lenVar": 40
   },
   "kernels_config": {
    "python": {
     "delete_cmd_postfix": "",
     "delete_cmd_prefix": "del ",
     "library": "var_list.py",
     "varRefreshCmd": "print(var_dic_list())"
    },
    "r": {
     "delete_cmd_postfix": ") ",
     "delete_cmd_prefix": "rm(",
     "library": "var_list.r",
     "varRefreshCmd": "cat(var_dic_list()) "
    }
   },
   "types_to_exclude": [
    "module",
    "function",
    "builtin_function_or_method",
    "instance",
    "_Feature"
   ],
   "window_display": false
  }
 },
 "nbformat": 4,
 "nbformat_minor": 4
}