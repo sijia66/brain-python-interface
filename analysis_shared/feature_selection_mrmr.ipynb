{
 "cells": [
  {
   "cell_type": "code",
   "execution_count": 12,
   "metadata": {
    "ExecuteTime": {
     "end_time": "2020-11-06T19:22:21.502860Z",
     "start_time": "2020-11-06T19:22:21.500987Z"
    }
   },
   "outputs": [],
   "source": [
    "import io\n",
    "import numpy as np\n",
    "from pymrmr import mRMR\n",
    "import pandas as pd\n",
    "import requests as rq"
   ]
  },
  {
   "cell_type": "markdown",
   "metadata": {},
   "source": [
    "# use their test case as an example"
   ]
  },
  {
   "cell_type": "code",
   "execution_count": 15,
   "metadata": {
    "ExecuteTime": {
     "end_time": "2020-11-06T19:23:36.772942Z",
     "start_time": "2020-11-06T19:23:23.395548Z"
    }
   },
   "outputs": [],
   "source": [
    "\n",
    "\n",
    "data_url = 'http://home.penglab.com/proj/mRMR/test_colon_s3.csv'\n",
    "data = rq.get(data_url).content\n",
    "data = pd.read_csv(io.StringIO(data.decode('utf-8')))\n",
    "\n",
    "feats = {\n",
    "  10: set(['v765', 'v1123', 'v1772', 'v286', 'v467', 'v377', 'v513',\n",
    "    'v1325', 'v1972', 'v1412']),\n",
    "  20: set(['v765', 'v1123', 'v1772', 'v286', 'v467', 'v377', 'v513',\n",
    "    'v1325', 'v1972', 'v1412', 'v1381', 'v897', 'v1671', 'v1582', 'v1423',\n",
    "    'v317', 'v249', 'v1473', 'v1346', 'v125'])}\n",
    "\n",
    "for n in feats.keys():\n",
    "  selected_feats = mRMR(data, 'MIQ', n)\n",
    "  assert feats[n] == set(selected_feats)"
   ]
  }
 ],
 "metadata": {
  "kernelspec": {
   "display_name": "Python 3",
   "language": "python",
   "name": "python3"
  },
  "language_info": {
   "codemirror_mode": {
    "name": "ipython",
    "version": 3
   },
   "file_extension": ".py",
   "mimetype": "text/x-python",
   "name": "python",
   "nbconvert_exporter": "python",
   "pygments_lexer": "ipython3",
   "version": "3.8.5"
  },
  "toc": {
   "base_numbering": 1,
   "nav_menu": {},
   "number_sections": true,
   "sideBar": true,
   "skip_h1_title": false,
   "title_cell": "Table of Contents",
   "title_sidebar": "Contents",
   "toc_cell": false,
   "toc_position": {},
   "toc_section_display": true,
   "toc_window_display": false
  },
  "varInspector": {
   "cols": {
    "lenName": 16,
    "lenType": 16,
    "lenVar": 40
   },
   "kernels_config": {
    "python": {
     "delete_cmd_postfix": "",
     "delete_cmd_prefix": "del ",
     "library": "var_list.py",
     "varRefreshCmd": "print(var_dic_list())"
    },
    "r": {
     "delete_cmd_postfix": ") ",
     "delete_cmd_prefix": "rm(",
     "library": "var_list.r",
     "varRefreshCmd": "cat(var_dic_list()) "
    }
   },
   "types_to_exclude": [
    "module",
    "function",
    "builtin_function_or_method",
    "instance",
    "_Feature"
   ],
   "window_display": false
  }
 },
 "nbformat": 4,
 "nbformat_minor": 4
}
