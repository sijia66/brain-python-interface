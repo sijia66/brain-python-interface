{
 "cells": [
  {
   "cell_type": "markdown",
   "metadata": {
    "ExecuteTime": {
     "end_time": "2020-10-14T21:56:03.564113Z",
     "start_time": "2020-10-14T21:56:03.561711Z"
    }
   },
   "source": [
    "1. calculate the succuss rate\n",
    "1. cov structure inside the data\n",
    "2. traial align to an event\n",
    "2. get data between two time points\n",
    "3. understand how decoder is trained in bmi3d"
   ]
  },
  {
   "cell_type": "code",
   "execution_count": 1,
   "metadata": {
    "ExecuteTime": {
     "end_time": "2020-10-26T21:58:39.755308Z",
     "start_time": "2020-10-26T21:58:39.499903Z"
    }
   },
   "outputs": [
    {
     "name": "stdout",
     "output_type": "stream",
     "text": [
      "Imports done! \n"
     ]
    }
   ],
   "source": [
    "import tables\n",
    "import numpy as np\n",
    "import matplotlib.pyplot as plt\n",
    "print(\"Imports done! \")"
   ]
  },
  {
   "cell_type": "markdown",
   "metadata": {},
   "source": [
    "# get the table"
   ]
  },
  {
   "cell_type": "code",
   "execution_count": 2,
   "metadata": {
    "ExecuteTime": {
     "end_time": "2020-10-26T21:58:39.758802Z",
     "start_time": "2020-10-26T21:58:39.756392Z"
    }
   },
   "outputs": [
    {
     "name": "stdout",
     "output_type": "stream",
     "text": [
      "tmpc7h1f4fm.h5\n",
      "kf_assist_0p1.h5\n",
      "no_assistance.h5\n",
      "sup_decoder.h5\n"
     ]
    }
   ],
   "source": [
    "from os import listdir\n",
    "from os.path import isfile, join\n",
    "temp_data_folder = 'temp_data/'\n",
    "\n",
    "for f in listdir(temp_data_folder): print(f)\n",
    "    \n"
   ]
  },
  {
   "cell_type": "code",
   "execution_count": 3,
   "metadata": {
    "ExecuteTime": {
     "end_time": "2020-10-26T21:58:39.771330Z",
     "start_time": "2020-10-26T21:58:39.759577Z"
    },
    "scrolled": true
   },
   "outputs": [
    {
     "name": "stdout",
     "output_type": "stream",
     "text": [
      "temp_data/tmpc7h1f4fm.h5 (File) ''\n",
      "Last modif.: 'Wed Oct 14 15:08:43 2020'\n",
      "Object Tree: \n",
      "/ (RootGroup) ''\n",
      "/task (Table(2099,), shuffle, zlib(5)) ''\n",
      "/task_msgs (Table(51,), shuffle, zlib(5)) ''\n",
      "\n"
     ]
    }
   ],
   "source": [
    "#replace this with your hdf filename\n",
    "fname = 'temp_data/tmpc7h1f4fm.h5'\n",
    "#fname = 'temp_data/sup_decoder.h5'\n",
    "hdffile = tables.open_file(fname, 'r')\n",
    "print(hdffile)"
   ]
  },
  {
   "cell_type": "code",
   "execution_count": 4,
   "metadata": {
    "ExecuteTime": {
     "end_time": "2020-10-26T21:58:39.780327Z",
     "start_time": "2020-10-26T21:58:39.772210Z"
    },
    "scrolled": true
   },
   "outputs": [
    {
     "name": "stdout",
     "output_type": "stream",
     "text": [
      "Description([('cursor', '(3,)f8'), ('loop_time', '(1,)f8'), ('decoder_state', '(7, 1)f8'), ('internal_decoder_state', '(7, 1)f8'), ('target_state', '(7, 1)f8'), ('update_bmi', '(1,)f8'), ('spike_counts', '(4, 1)f8'), ('bin_edges', '(2,)f8'), ('ctrl_input', '(7,)f8'), ('assist_level', '(1,)f8'), ('target', '(3,)f8'), ('target_index', '(1,)i4')])\n",
      "/task (Table(2099,), shuffle, zlib(5)) ''\n",
      "Description([('msg', '()S256'), ('time', '()u4')])\n"
     ]
    }
   ],
   "source": [
    "task_msgs_tables = hdffile.root.task_msgs\n",
    "task_tables = hdffile.root.task\n",
    "print(task_tables.description)\n",
    "\n",
    "print(task_tables)\n",
    "print(task_msgs_tables.description)"
   ]
  },
  {
   "cell_type": "markdown",
   "metadata": {},
   "source": [
    "# task msgs data"
   ]
  },
  {
   "cell_type": "markdown",
   "metadata": {},
   "source": [
    "## look what in the data, eh"
   ]
  },
  {
   "cell_type": "code",
   "execution_count": 5,
   "metadata": {
    "ExecuteTime": {
     "end_time": "2020-10-26T21:58:39.786674Z",
     "start_time": "2020-10-26T21:58:39.781253Z"
    },
    "scrolled": true
   },
   "outputs": [
    {
     "name": "stdout",
     "output_type": "stream",
     "text": [
      "<bound method Table.col of /task_msgs (Table(51,), shuffle, zlib(5)) ''\n",
      "  description := {\n",
      "  \"msg\": StringCol(itemsize=256, shape=(), dflt=b'', pos=0),\n",
      "  \"time\": UInt32Col(shape=(), dflt=0, pos=1)}\n",
      "  byteorder := 'little'\n",
      "  chunkshape := (252,)>\n"
     ]
    }
   ],
   "source": [
    "print(task_msgs_tables.col)\n"
   ]
  },
  {
   "cell_type": "code",
   "execution_count": 6,
   "metadata": {
    "ExecuteTime": {
     "end_time": "2020-10-26T21:58:39.797532Z",
     "start_time": "2020-10-26T21:58:39.787551Z"
    }
   },
   "outputs": [
    {
     "data": {
      "text/plain": [
       "[(b'wait', 0),\n",
       " (b'target', 1),\n",
       " (b'hold', 2),\n",
       " (b'targ_transition', 15),\n",
       " (b'target', 16),\n",
       " (b'hold', 174),\n",
       " (b'targ_transition', 187),\n",
       " (b'reward', 188),\n",
       " (b'wait', 219),\n",
       " (b'target', 220),\n",
       " (b'hold', 462),\n",
       " (b'targ_transition', 475),\n",
       " (b'target', 476),\n",
       " (b'hold', 606),\n",
       " (b'targ_transition', 619),\n",
       " (b'reward', 620),\n",
       " (b'wait', 651),\n",
       " (b'target', 652),\n",
       " (b'hold', 810),\n",
       " (b'targ_transition', 823),\n",
       " (b'target', 824),\n",
       " (b'hold', 948),\n",
       " (b'targ_transition', 961),\n",
       " (b'reward', 962),\n",
       " (b'wait', 993),\n",
       " (b'target', 994),\n",
       " (b'hold', 1164),\n",
       " (b'targ_transition', 1177),\n",
       " (b'target', 1178),\n",
       " (b'hold', 1326),\n",
       " (b'targ_transition', 1339),\n",
       " (b'reward', 1340),\n",
       " (b'wait', 1371),\n",
       " (b'target', 1372),\n",
       " (b'hold', 1560),\n",
       " (b'targ_transition', 1573),\n",
       " (b'target', 1574),\n",
       " (b'hold', 1662),\n",
       " (b'targ_transition', 1675),\n",
       " (b'reward', 1676),\n",
       " (b'wait', 1706),\n",
       " (b'target', 1707),\n",
       " (b'hold', 1872),\n",
       " (b'targ_transition', 1885),\n",
       " (b'target', 1886),\n",
       " (b'hold', 2052),\n",
       " (b'targ_transition', 2065),\n",
       " (b'reward', 2066),\n",
       " (b'wait', 2097),\n",
       " (b'target', 2098),\n",
       " (b'None', 2099)]"
      ]
     },
     "execution_count": 6,
     "metadata": {},
     "output_type": "execute_result"
    }
   ],
   "source": [
    "# look deeper into what is in here, eh\n",
    "# zip msg and time together\n",
    "msg_time = list(zip(task_msgs_tables.col('msg'), \n",
    "               task_msgs_tables.col('time')))\n",
    "\n",
    "# returns a list of msg and time in tuples\n",
    "msg_time"
   ]
  },
  {
   "cell_type": "markdown",
   "metadata": {},
   "source": [
    "skimming through this\n",
    "the monkey just does nothing"
   ]
  },
  {
   "cell_type": "markdown",
   "metadata": {},
   "source": [
    "let's look at couple of things\n",
    "time_snap_shot = 16\n"
   ]
  },
  {
   "cell_type": "markdown",
   "metadata": {},
   "source": [
    "this tells us what happens at what time, sort of thing"
   ]
  },
  {
   "cell_type": "code",
   "execution_count": 7,
   "metadata": {
    "ExecuteTime": {
     "end_time": "2020-10-26T21:58:39.803267Z",
     "start_time": "2020-10-26T21:58:39.799050Z"
    }
   },
   "outputs": [],
   "source": [
    "#b'a string'.decode('ascii')\n",
    "#to convert binary string into regular string.\n",
    "\n"
   ]
  },
  {
   "cell_type": "markdown",
   "metadata": {},
   "source": [
    "## use xarray to proc the data"
   ]
  },
  {
   "cell_type": "markdown",
   "metadata": {},
   "source": [
    "# Trial data"
   ]
  },
  {
   "cell_type": "code",
   "execution_count": null,
   "metadata": {},
   "outputs": [],
   "source": []
  },
  {
   "cell_type": "markdown",
   "metadata": {},
   "source": [
    "# behavioural"
   ]
  },
  {
   "cell_type": "markdown",
   "metadata": {},
   "source": [
    "## look at some trajectories"
   ]
  },
  {
   "cell_type": "code",
   "execution_count": 8,
   "metadata": {
    "ExecuteTime": {
     "end_time": "2020-10-26T21:58:39.903294Z",
     "start_time": "2020-10-26T21:58:39.804527Z"
    },
    "scrolled": false
   },
   "outputs": [
    {
     "data": {
      "image/png": "[encoded data removed]",
      "text/plain": [
       "<Figure size 432x288 with 1 Axes>"
      ]
     },
     "metadata": {
      "needs_background": "light"
     },
     "output_type": "display_data"
    },
    {
     "data": {
      "text/plain": [
       "(2099, 3)"
      ]
     },
     "execution_count": 8,
     "metadata": {},
     "output_type": "execute_result"
    }
   ],
   "source": [
    "trial_1_reward = 284\n",
    "\n",
    "#plot out the cursor trajectories\n",
    "cursor_coor = task_tables.col('cursor')\n",
    "plt.plot(cursor_coor[::trial_1_reward,0], cursor_coor[::trial_1_reward,2])\n",
    "plt.show()\n",
    "\n",
    "cursor_coor.shape"
   ]
  },
  {
   "cell_type": "markdown",
   "metadata": {},
   "source": [
    "\n",
    "## we can bundle the behaviour and task data together\n",
    "the shape and the traject is exactly the same with the trial trajectory, eh"
   ]
  },
  {
   "cell_type": "markdown",
   "metadata": {},
   "source": [
    "this just shows that I have 6 trials \n",
    "and I cannot tell which trial is which, eh. "
   ]
  },
  {
   "cell_type": "markdown",
   "metadata": {},
   "source": [
    "## eye tracking (optional)"
   ]
  },
  {
   "cell_type": "markdown",
   "metadata": {
    "scrolled": false
   },
   "source": [
    "#plot out the eye tracking results\n",
    "eye_array = hdffile.root.eyetracker\n",
    "print(eye_array)\n",
    "plt.plot(eye_array[:,0], eye_array[:,1])"
   ]
  },
  {
   "cell_type": "markdown",
   "metadata": {},
   "source": [
    "## mocap data"
   ]
  },
  {
   "cell_type": "markdown",
   "metadata": {},
   "source": [
    "#plot out the mocap data\n",
    "mocap_array = hdffile.root.motiontracker\n",
    "\n"
   ]
  },
  {
   "cell_type": "markdown",
   "metadata": {},
   "source": [
    "#  neural data"
   ]
  },
  {
   "cell_type": "code",
   "execution_count": 9,
   "metadata": {
    "ExecuteTime": {
     "end_time": "2020-10-26T21:58:39.906227Z",
     "start_time": "2020-10-26T21:58:39.904206Z"
    }
   },
   "outputs": [
    {
     "name": "stdout",
     "output_type": "stream",
     "text": [
      "Description([('cursor', '(3,)f8'), ('loop_time', '(1,)f8'), ('decoder_state', '(7, 1)f8'), ('internal_decoder_state', '(7, 1)f8'), ('target_state', '(7, 1)f8'), ('update_bmi', '(1,)f8'), ('spike_counts', '(4, 1)f8'), ('bin_edges', '(2,)f8'), ('ctrl_input', '(7,)f8'), ('assist_level', '(1,)f8'), ('target', '(3,)f8'), ('target_index', '(1,)i4')])\n"
     ]
    }
   ],
   "source": [
    "# see what we are dealing with\n",
    "\n",
    "print(task_tables.description)"
   ]
  },
  {
   "cell_type": "code",
   "execution_count": 10,
   "metadata": {
    "ExecuteTime": {
     "end_time": "2020-10-26T21:58:39.914872Z",
     "start_time": "2020-10-26T21:58:39.907159Z"
    }
   },
   "outputs": [
    {
     "name": "stdout",
     "output_type": "stream",
     "text": [
      "decoder_state.shape: (2099, 7)\n"
     ]
    }
   ],
   "source": [
    "cursor = np.squeeze(task_tables.col('cursor'))\n",
    "decoder_state = np.squeeze(task_tables.col('decoder_state'))\n",
    "internal_decoder_state = np.squeeze(task_tables.col('internal_decoder_state'))\n",
    "\n",
    "target = np.squeeze(task_tables.col('target'))\n",
    "target_state = np.squeeze(task_tables.col('target_state'))\n",
    "spike_counts = np.squeeze(task_tables.col('spike_counts'))\n",
    "\n",
    "ctrl_input = np.squeeze(task_tables.col('ctrl_input'))\n",
    "\n",
    "print(f'decoder_state.shape: {decoder_state.shape}')\n"
   ]
  },
  {
   "cell_type": "markdown",
   "metadata": {},
   "source": [
    "## look at some time points\n",
    "let's look at time point of what everything stacking up against\n"
   ]
  },
  {
   "cell_type": "code",
   "execution_count": 11,
   "metadata": {
    "ExecuteTime": {
     "end_time": "2020-10-26T21:58:39.921607Z",
     "start_time": "2020-10-26T21:58:39.915697Z"
    }
   },
   "outputs": [],
   "source": [
    "#from above\n",
    "#msg_time"
   ]
  },
  {
   "cell_type": "code",
   "execution_count": 12,
   "metadata": {
    "ExecuteTime": {
     "end_time": "2020-10-26T21:58:39.930874Z",
     "start_time": "2020-10-26T21:58:39.922463Z"
    }
   },
   "outputs": [
    {
     "name": "stdout",
     "output_type": "stream",
     "text": [
      "look at time point 178\n",
      "target:\n",
      "[8. 0. 0.]\n",
      "cursor\n",
      "[6.6917334  0.         0.09928355]\n",
      "decoder state:\n",
      "[ 6.6917334   0.          0.09928355  2.10881304  0.         -0.46496808\n",
      "  1.        ]\n",
      "internal decoder state:\n",
      "[ 6.6917334   0.          0.09928355  2.10881304  0.         -0.46496808\n",
      "  1.        ]\n"
     ]
    }
   ],
   "source": [
    "snap_shot_time = 178\n",
    "#from looking the task_msg, at 16th time, a new peripherical target\n",
    "# appears\n",
    "print(f'look at time point {snap_shot_time}')\n",
    "\n",
    "print('target:')\n",
    "print(target[snap_shot_time, :])\n",
    "\n",
    "print('cursor')\n",
    "print(cursor[snap_shot_time, :])\n",
    "\n",
    "print('decoder state:')\n",
    "print(decoder_state[snap_shot_time,:])\n",
    "\n",
    "print('internal decoder state:')\n",
    "print(internal_decoder_state[snap_shot_time,:])\n",
    "\n"
   ]
  },
  {
   "cell_type": "code",
   "execution_count": 13,
   "metadata": {
    "ExecuteTime": {
     "end_time": "2020-10-26T21:58:39.940892Z",
     "start_time": "2020-10-26T21:58:39.931699Z"
    }
   },
   "outputs": [
    {
     "data": {
      "text/plain": [
       "array([0., 1., 0., 1.])"
      ]
     },
     "execution_count": 13,
     "metadata": {},
     "output_type": "execute_result"
    }
   ],
   "source": [
    "spike_counts[snap_shot_time,:]"
   ]
  },
  {
   "cell_type": "code",
   "execution_count": 14,
   "metadata": {
    "ExecuteTime": {
     "end_time": "2020-10-26T21:58:39.947322Z",
     "start_time": "2020-10-26T21:58:39.941782Z"
    }
   },
   "outputs": [
    {
     "data": {
      "text/plain": [
       "array([0., 0., 0., 0., 0., 0., 0.])"
      ]
     },
     "execution_count": 14,
     "metadata": {},
     "output_type": "execute_result"
    }
   ],
   "source": [
    "target_state[snap_shot_time,:]"
   ]
  },
  {
   "cell_type": "code",
   "execution_count": 15,
   "metadata": {
    "ExecuteTime": {
     "end_time": "2020-10-26T21:58:39.955219Z",
     "start_time": "2020-10-26T21:58:39.948520Z"
    }
   },
   "outputs": [
    {
     "data": {
      "text/plain": [
       "array([0., 0., 0., 0., 0., 0., 0.])"
      ]
     },
     "execution_count": 15,
     "metadata": {},
     "output_type": "execute_result"
    }
   ],
   "source": [
    "ctrl_input[snap_shot_time,:]"
   ]
  },
  {
   "cell_type": "markdown",
   "metadata": {},
   "source": [
    "## before\n",
    "        sim_C = np.zeros((N_NEURONS, N_STATES))\n",
    "        # control x positive directions\n",
    "        sim_C[0, :] = np.array([0, 0, 0, 1, 0, 0, 0])\n",
    "        sim_C[1, :] = np.array([0, 0, 0, -1, 0, 0, 0])\n",
    "        # control z positive directions\n",
    "        sim_C[2, :] = np.array([0, 0, 0, 0, 0, 1, 0])\n",
    "        sim_C[3, :] = np.array([0, 0, 0, 0, 0, -1, 0])"
   ]
  },
  {
   "cell_type": "markdown",
   "metadata": {},
   "source": [
    "## change at trial 3, after\n",
    "    #configure params changes\n",
    "    sim_C_new = np.zeros((N_NEURONS, N_STATES))\n",
    "    sim_C_new[0, :] = np.array([0, 0, 0, 0, 1, 0, 0])\n",
    "    sim_C_new[1, :] = np.array([0, 0, 0, 0, -1, 0, 0])\n",
    "    # control z positive directions\n",
    "    sim_C_new[2, :] = np.array([0, 0, 0, 1, 0, 0, 0])\n",
    "    sim_C_new[3, :] = np.array([0, 0, 0, -1, 0, 0, 0])\n"
   ]
  },
  {
   "cell_type": "markdown",
   "metadata": {},
   "source": [
    "they all have the same time vec? Is there a better way to bundle together the input information?\n",
    "\n",
    "how about letting the monkey chasing a moving target?\n",
    "\n",
    "harder while the monkey trying to learn the decoder, eh?"
   ]
  },
  {
   "cell_type": "code",
   "execution_count": 16,
   "metadata": {
    "ExecuteTime": {
     "end_time": "2020-10-26T21:58:40.303511Z",
     "start_time": "2020-10-26T21:58:39.956062Z"
    }
   },
   "outputs": [
    {
     "name": "stdout",
     "output_type": "stream",
     "text": [
      "internal_decoder_state.shape: (2099, 7)\n"
     ]
    },
    {
     "data": {
      "text/plain": [
       "[<matplotlib.lines.Line2D at 0x7f8381e8ec70>]"
      ]
     },
     "execution_count": 16,
     "metadata": {},
     "output_type": "execute_result"
    },
    {
     "data": {
      "image/png": "[encoded data removed]",
      "text/plain": [
       "<Figure size 432x288 with 6 Axes>"
      ]
     },
     "metadata": {
      "needs_background": "light"
     },
     "output_type": "display_data"
    }
   ],
   "source": [
    "print(f'internal_decoder_state.shape: {internal_decoder_state.shape}')\n",
    "\n",
    "plt.subplot(6,1,1)\n",
    "plt.plot(spike_counts[:,0])\n",
    "\n",
    "plt.subplot(6,1,2)\n",
    "plt.plot(spike_counts[:,1])\n",
    "\n",
    "plt.subplot(6,1,3)\n",
    "plt.plot(spike_counts[:,2])\n",
    "\n",
    "plt.subplot(6,1,4)\n",
    "plt.plot(spike_counts[:,3])\n",
    "\n",
    "\n",
    "plt.subplot(6,1,5)\n",
    "plt.plot(internal_decoder_state[:,3])\n",
    "\n",
    "plt.subplot(6,1,6)\n",
    "plt.plot(cursor[:,0])\n",
    "#plt.plot(internal_decoder_state[:,3])\n",
    "#plt.plot(cursor[:,2])"
   ]
  },
  {
   "cell_type": "markdown",
   "metadata": {},
   "source": [
    "# look at the joint spike-target cov structure\n",
    "we have to be careful tho that  \n",
    "we changed the decoder at middle of the experiment\n"
   ]
  },
  {
   "cell_type": "markdown",
   "metadata": {},
   "source": [
    "## append the spike -target  arrays together"
   ]
  },
  {
   "cell_type": "code",
   "execution_count": null,
   "metadata": {},
   "outputs": [],
   "source": []
  },
  {
   "cell_type": "markdown",
   "metadata": {},
   "source": [
    "## calculate cov structure\n",
    "\n",
    "Estimate a covariance matrix, given data and weights.\n",
    "numpy.cov(m, y=None, rowvar=True)\n"
   ]
  },
  {
   "cell_type": "code",
   "execution_count": 17,
   "metadata": {
    "ExecuteTime": {
     "end_time": "2020-10-26T21:58:40.306556Z",
     "start_time": "2020-10-26T21:58:40.304356Z"
    }
   },
   "outputs": [
    {
     "data": {
      "text/plain": [
       "(2099, 3)"
      ]
     },
     "execution_count": 17,
     "metadata": {},
     "output_type": "execute_result"
    }
   ],
   "source": [
    "cursor.shape"
   ]
  },
  {
   "cell_type": "code",
   "execution_count": 18,
   "metadata": {
    "ExecuteTime": {
     "end_time": "2020-10-26T21:58:40.314561Z",
     "start_time": "2020-10-26T21:58:40.307251Z"
    }
   },
   "outputs": [
    {
     "data": {
      "text/plain": [
       "(2099, 4)"
      ]
     },
     "execution_count": 18,
     "metadata": {},
     "output_type": "execute_result"
    }
   ],
   "source": [
    "spike_counts.shape"
   ]
  },
  {
   "cell_type": "code",
   "execution_count": 19,
   "metadata": {
    "ExecuteTime": {
     "end_time": "2020-10-26T21:58:40.323000Z",
     "start_time": "2020-10-26T21:58:40.315367Z"
    }
   },
   "outputs": [
    {
     "data": {
      "text/plain": [
       "(2099, 7)"
      ]
     },
     "execution_count": 19,
     "metadata": {},
     "output_type": "execute_result"
    }
   ],
   "source": [
    "spike_target = np.concatenate((spike_counts, cursor), \n",
    "                              axis=1, \n",
    "                              out=None)\n",
    "spike_target.shape"
   ]
  },
  {
   "cell_type": "code",
   "execution_count": 20,
   "metadata": {
    "ExecuteTime": {
     "end_time": "2020-10-26T21:58:40.330972Z",
     "start_time": "2020-10-26T21:58:40.324048Z"
    }
   },
   "outputs": [
    {
     "data": {
      "text/plain": [
       "array([[ 2.95622637e-01,  6.13511087e-02,  1.37234309e-01,\n",
       "         7.66725360e-02,  4.63687496e-02,  0.00000000e+00,\n",
       "        -1.35949635e-02],\n",
       "       [ 6.13511087e-02,  2.32740998e-01,  4.93866297e-02,\n",
       "         5.65154045e-02, -4.97905867e-02,  0.00000000e+00,\n",
       "         3.76457461e-02],\n",
       "       [ 1.37234309e-01,  4.93866297e-02,  2.93658381e-01,\n",
       "         4.43808414e-02,  4.63305531e-02,  0.00000000e+00,\n",
       "         3.99570829e-03],\n",
       "       [ 7.66725360e-02,  5.65154045e-02,  4.43808414e-02,\n",
       "         1.40168885e-01,  6.04031859e-03,  0.00000000e+00,\n",
       "        -1.40261720e-02],\n",
       "       [ 4.63687496e-02, -4.97905867e-02,  4.63305531e-02,\n",
       "         6.04031859e-03,  1.48006804e+01,  0.00000000e+00,\n",
       "         2.44061176e+00],\n",
       "       [ 0.00000000e+00,  0.00000000e+00,  0.00000000e+00,\n",
       "         0.00000000e+00,  0.00000000e+00,  0.00000000e+00,\n",
       "         0.00000000e+00],\n",
       "       [-1.35949635e-02,  3.76457461e-02,  3.99570829e-03,\n",
       "        -1.40261720e-02,  2.44061176e+00,  0.00000000e+00,\n",
       "         7.17697675e+00]])"
      ]
     },
     "execution_count": 20,
     "metadata": {},
     "output_type": "execute_result"
    }
   ],
   "source": [
    "spike_target = np.cov(spike_target.T)\n",
    "spike_target.shape\n",
    "spike_target"
   ]
  },
  {
   "cell_type": "markdown",
   "metadata": {},
   "source": [
    "ins: display the thing"
   ]
  },
  {
   "cell_type": "code",
   "execution_count": 21,
   "metadata": {
    "ExecuteTime": {
     "end_time": "2020-10-26T21:58:40.430285Z",
     "start_time": "2020-10-26T21:58:40.332096Z"
    }
   },
   "outputs": [
    {
     "data": {
      "text/plain": [
       "<matplotlib.image.AxesImage at 0x7f8381e11f70>"
      ]
     },
     "execution_count": 21,
     "metadata": {},
     "output_type": "execute_result"
    },
    {
     "data": {
      "image/png": "[encoded data removed]",
      "text/plain": [
       "<Figure size 432x288 with 1 Axes>"
      ]
     },
     "metadata": {
      "needs_background": "light"
     },
     "output_type": "display_data"
    }
   ],
   "source": [
    "plt.imshow(spike_target)\n",
    "#plt.imshow(spike_target[0:4, 0:4])"
   ]
  },
  {
   "cell_type": "markdown",
   "metadata": {},
   "source": [
    "it is interesting in a I don't understand way. "
   ]
  }
 ],
 "metadata": {
  "kernelspec": {
   "display_name": "Python 3",
   "language": "python",
   "name": "python3"
  },
  "language_info": {
   "codemirror_mode": {
    "name": "ipython",
    "version": 3
   },
   "file_extension": ".py",
   "mimetype": "text/x-python",
   "name": "python",
   "nbconvert_exporter": "python",
   "pygments_lexer": "ipython3",
   "version": "3.8.5"
  },
  "toc": {
   "base_numbering": 1,
   "nav_menu": {},
   "number_sections": true,
   "sideBar": true,
   "skip_h1_title": false,
   "title_cell": "Table of Contents",
   "title_sidebar": "Contents",
   "toc_cell": false,
   "toc_position": {
    "height": "calc(100% - 180px)",
    "left": "10px",
    "top": "150px",
    "width": "209.371px"
   },
   "toc_section_display": true,
   "toc_window_display": true
  },
  "varInspector": {
   "cols": {
    "lenName": 16,
    "lenType": 16,
    "lenVar": 40
   },
   "kernels_config": {
    "python": {
     "delete_cmd_postfix": "",
     "delete_cmd_prefix": "del ",
     "library": "var_list.py",
     "varRefreshCmd": "print(var_dic_list())"
    },
    "r": {
     "delete_cmd_postfix": ") ",
     "delete_cmd_prefix": "rm(",
     "library": "var_list.r",
     "varRefreshCmd": "cat(var_dic_list()) "
    }
   },
   "types_to_exclude": [
    "module",
    "function",
    "builtin_function_or_method",
    "instance",
    "_Feature"
   ],
   "window_display": false
  }
 },
 "nbformat": 4,
 "nbformat_minor": 4
}
